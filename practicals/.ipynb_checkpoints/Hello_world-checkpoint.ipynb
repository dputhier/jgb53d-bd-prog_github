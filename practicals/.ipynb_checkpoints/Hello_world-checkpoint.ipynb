{
 "metadata": {
  "name": "",
  "signature": "sha256:863e9f5bdf75171459b906b229c9c395834c8b3e8531eda070165b2b1f3e58e5"
 },
 "nbformat": 3,
 "nbformat_minor": 0,
 "worksheets": [
  {
   "cells": [
    {
     "cell_type": "markdown",
     "metadata": {},
     "source": [
      "\n",
      "<style>\n",
      ".tips {\n",
      "       padding-top: 5px;\n",
      "       padding-bottom: 5px;\n",
      "       padding-left: 5px;\n",
      "       padding-right: 5px;\n",
      "       border: 1px dashed #2f6fab;\n",
      "       #color: Black;\n",
      "       background-color: #EEFFEE;\n",
      "       #color: #330066;\n",
      "       #margin-right: 20%\n",
      "}\n",
      "\n",
      ".code {\n",
      "    font-family: Courier;\n",
      "    padding-top: 0px;\n",
      "    padding-bottom: 0px;\n",
      "    padding-left: 5px;\n",
      "    padding-right: 5px;\n",
      "    border: 1px dashed #2f6fab;\n",
      "    background-color: #EEEEEE;\n",
      "    color: #0000BB;\n",
      "    #margin-right: 20%\n",
      "}\n",
      "\n",
      ".solution {\n",
      "            margin-top: 5px;\n",
      "            margin-bottom: 5px;\n",
      "            padding-top: 5px;\n",
      "            padding-bottom: 5px;\n",
      "            padding-left: 5px;\n",
      "            padding-right: 5px;\n",
      "            border: 1px dashed #FFFFFF;\n",
      "            background-color: #EEEEFF;\n",
      "            color: #0000BB;\n",
      "            font-size: 11px;\n",
      "            #margin-right: 20%\n",
      "}\n",
      "\n",
      "\n",
      ".exo {\n",
      "       margin-top: 5px;\n",
      "       margin-bottom: 5px;\n",
      "       #font-style:italic;\n",
      "       padding-top: 5px;\n",
      "       padding-bottom: 5px;\n",
      "       padding-left: 5px;\n",
      "       padding-right: 5px;\n",
      "       #border: 1px solid #9999ff;\n",
      "       #color: Black;\n",
      "       background-color: #FFEEFF;\n",
      "       color: rgb(51, 51,153);\n",
      "       #margin-right: 30%\n",
      "}\n",
      "\n",
      "\n",
      ".tut {\n",
      "       #font-style:italic;\n",
      "       padding-top: 5px;\n",
      "       padding-bottom: 5px;\n",
      "       padding-left: 20px;\n",
      "       #border: 1px solid #9999ff;\n",
      "       #color: Black;\n",
      "       background-color: #BBDDFF;\n",
      "       color: rgb(51, 51,153);\n",
      "       #margin-right: 30%\n",
      "}\n",
      "\n",
      "\n",
      ".answer {\n",
      "       #font-style:italic;\n",
      "       padding-top: 5px;\n",
      "       padding-bottom: 5px;\n",
      "       padding-left: 20px;\n",
      "       #border: 1px solid #9999ff;\n",
      "       #color: Black;\n",
      "       background-color: #DDFFDD;\n",
      "       color: rgb(51, 51,153);\n",
      "       #margin-right: 30%\n",
      "}\n",
      "\n",
      "\n",
      ".attention {\n",
      "    color: #6B0909;\n",
      "/*    font-size: 13px;*/\n",
      "    padding:5px;\n",
      "    background-color: #FFEEEE;\n",
      "    border: 2px solid #B40404;\n",
      "    margin-right: 5%;\n",
      "    margin-left: 5%;\n",
      "}  \n",
      "\n",
      "/*p.attention\n",
      "{\n",
      "  font-size: 12px;\n",
      "  border: 2px solid #B40404;\n",
      "}\n",
      "*/\n",
      "\n",
      "  /* from RSAT course.css */\n",
      "p.attention\n",
      "{\n",
      "  padding:10px;\n",
      "  background-color: #FFEEEE;\n",
      "  border: 2px solid #B40404;\n",
      "  margin-right: 5%;\n",
      "  margin-left: 5%;\n",
      "}\n",
      "\n",
      "\n",
      ".tbw \n",
      "{\n",
      "  font-style:italic;\n",
      "  padding-top: 5px;\n",
      "  padding-bottom: 5px;\n",
      "  padding-left: 5px;\n",
      "  border: 1px solid #9999ff;\n",
      "  color: Red;\n",
      "  background-color: #FFFFBB;\n",
      "  }\n",
      "\n",
      ".protocol \n",
      "{\n",
      "  font-style:plain;\n",
      "  margin-top: 5px;\n",
      "  margin-bottom: 5px;\n",
      "  padding-top: 5px;\n",
      "  padding-bottom: 5px;\n",
      "  padding-left: 5px;\n",
      "  padding-right: 5px;\n",
      "  #border: 1px solid #9999ff;\n",
      "  color: #000055;\n",
      "  background-color: #D8E8FF;\n",
      "  }\n",
      "\n",
      "/* Concept definitions */\n",
      ".concept \n",
      "{ \n",
      "  color: darkgreen;\n",
      "  font-style: italic;\n",
      "  font-weight: bold;\n",
      "  }\n",
      "\n",
      "/* Figure legend */\n",
      ".legend\n",
      "{ \n",
      "  text-align: center;\n",
      "  font-style: italic;\n",
      "  }\n",
      "\n",
      "/* English terms */\n",
      ".en\n",
      "{ \n",
      "  font-style: italic;\n",
      "  }\n",
      "\n",
      "\n",
      "/* software tool, program */\n",
      ".organism\n",
      "{ \n",
      "  font-style: italic;\n",
      "}\n",
      "\n",
      "/* software tool, program */\n",
      ".program\n",
      "{ \n",
      "  font-style: italic;\n",
      "  font-weight: bold;\n",
      "}\n",
      "\n",
      "\n",
      "/* software tool, program */\n",
      ".command\n",
      "{ \n",
      "  font-weight: bold;\n",
      "  color: brown;\n",
      "  }\n",
      "\n",
      "/* avoid the prompt */\n",
      "div.prompt {display:none}\n",
      "  </style>"
     ]
    },
    {
     "cell_type": "markdown",
     "metadata": {},
     "source": [
      "*AMU :: Polytech Biotech 3A :: JGB53D :: 2014/2015 :: Jacques van\n",
      "Helden, Denis Puthier, Nicolas Terrapon*\n",
      "\n",
      "------------------------------------------------------------------------\n",
      "\n",
      "Contenu\n",
      "-------\n",
      "\n",
      "1.  [Python](#python)\n",
      "2.  [Objectifs du TD](#objectifs)\n",
      "3.  [Ouvrir une session](#session)\n",
      "4.  [Hello world](#firstpgrm)\n",
      "5.  [Cr\u00e9ation de variables](#variables)\n",
      "6.  [En Python, les variables sont associ\u00e9es \u00e0 des\n",
      "    m\u00e9thodes](#basicobjects)\n",
      "7.  [Listes et tuples](#lists)\n",
      "8.  [Dictionnaires](#dict)\n",
      "9.  [Pour aller plus loin](#plus)\n",
      "10. [](#)\n",
      "\n",
      "[\\[Retour \u00e0 la table des mati\u00e8res\\]](#contenu)\n",
      "\n",
      "------------------------------------------------------------------------\n",
      "\n",
      "Python ?\n",
      "--------\n",
      "\n",
      "Le langage de programmation Python a \u00e9t\u00e9 d\u00e9velopp\u00e9 par Guido van Rossum.\n",
      "Sa premi\u00e8re version date de 1991. Python fonctionne sous Windows,\n",
      "Linux/Unix et Mac OS X. Le langage Python est sous licence open-source\n",
      "ce qui le rend utilisable gratuitement et distribuable m\u00eame pour des\n",
      "applications commerciales. Python a \u00e9t\u00e9 developp\u00e9 afin de procurer un\n",
      "langage tr\u00e8s lisible \u00e0 la communaut\u00e9. L'id\u00e9e est de proposer un langage\n",
      "tr\u00e8s proche du langage naturel et \u00e9loign\u00e9 de certains langages dont le\n",
      "code peut rapidement devenir obscur (\"obfuscating code\"). Par ailleurs\n",
      "le but de python est de proposer un langage simple, standardis\u00e9 dont\n",
      "l'une des devise est: *\"There should be one \u2014 and preferably only one \u2014\n",
      "obvious way to do it\"*.\n",
      "\n",
      "Python est un langage puissant, assez facile d'apprentissage et qui\n",
      "propose une palette d'outils tr\u00e8s large. Il peut \u00eatre notamment utilis\u00e9\n",
      "pour:\n",
      "\n",
      "-   Le d\u00e9veloppement de scripts (e.g convertisseurs de formats pour des\n",
      "    fichiers de donn\u00e9es).\n",
      "-   Le d\u00e9veloppement d'applications en lignes de commandes.\n",
      "-   Le d\u00e9veloppement d'applications web.\n",
      "-   Le d\u00e9veloppement de d'interfaces graphiques (\"Graphical User\n",
      "    Interfaces\", GUIs).\n",
      "-   Communiquer avec des bases de donn\u00e9es.\n",
      "-   L'analyse de donn\u00e9es num\u00e9riques (issues des domaines de la\n",
      "    bioinformatique, physique,...).\n",
      "-   ...\n",
      "\n",
      "[\\[Retour \u00e0 la table des mati\u00e8res\\]](#contenu)\n",
      "\n",
      "------------------------------------------------------------------------\n",
      "\n",
      "Objectifs du TD\n",
      "---------------\n",
      "\n",
      "Au fil de ce TD, nous allons pr\u00e9senter un certain nombre de structures\n",
      "de donn\u00e9es. Ces structures (variables, listes, dictionnaires,...)\n",
      "permettent d'organiser l'information en m\u00e9moire et nous permettront,\n",
      "lors les TDs suivants, de r\u00e9aliser des programmes s'appuyant sur\n",
      "celles-ci.\n",
      "\n",
      "-   [Ouvrir une session](#session)\n",
      "-   [Hello world](#firstpgrm)\n",
      "-   [Manupilation de variables](#variables)\n",
      "-   [Listes et tuples](#lists)\n",
      "-   [Dictionnaires](#dico)\n",
      "-   Pour aller plus loin\n",
      "\n",
      "[\\[Retour \u00e0 la table des mati\u00e8res\\]](#contenu)\n",
      "\n",
      "------------------------------------------------------------------------\n",
      "\n",
      "Ouvrir une session\n",
      "------------------\n",
      "\n",
      "### D\u00e9marrez un terminal\n",
      "\n",
      "<div class=\"protocol\">\n",
      "\n",
      "1.  Connectez vous \u00e0 l'ordinateur avec votre nom d'utilisateur et mot\n",
      "    de passe.\n",
      "2.  Ouvrez un terminal (*cf* TD01).\n",
      "\n",
      "</div>\n",
      "\n",
      "Dans le terminal, tapez la commande suivante qui devrait vous permettre\n",
      "de d\u00e9marrer un interpr\u00e9teur Python (ici pour la version 3 du langage\n",
      "python).\n"
     ]
    },
    {
     "cell_type": "raw",
     "metadata": {},
     "source": [
      "    ipython3 # D\u00e9marrage de l'interpr\u00e9teur python.  "
     ]
    },
    {
     "cell_type": "markdown",
     "metadata": {},
     "source": [
      "Le programme <span class=\"program\">IPython</span> est un <span\n",
      "class=\"concept\">interpr\u00e9teur</span> python, ce qui signifie qu'il\n",
      "comprendra les instructions Python que vous lui soumettez et qu'il les\n",
      "ex\u00e9cutera l'une apr\u00e8s l'autre. Ceci permet de tester de simples\n",
      "commandes, sans n\u00e9cessiter de les sauvegarder dans un fichier.\n",
      "\n",
      "[\\[Retour \u00e0 la table des mati\u00e8res\\]](#contenu)\n",
      "\n",
      "------------------------------------------------------------------------"
     ]
    },
    {
     "cell_type": "markdown",
     "metadata": {},
     "source": [
      "\n",
      "Hello world\n",
      "-----------\n",
      "\n",
      "Comme premier contact avec un langage de programmation, la coutume est\n",
      "de cr\u00e9er un programme qui imprime \u00e0 l'\u00e9cran le message *\"Hello world\"*.\n",
      "Nous ne d\u00e9rogerons pas \u00e0 l'usage.\n",
      "\n",
      "Copiez l'instruction suivante dans l'interpr\u00e9teur.\n",
      "\n",
      "\n"
     ]
    },
    {
     "cell_type": "code",
     "collapsed": false,
     "input": [
      "# On demande \u00e0 python de dire  \"Hello world\"\n",
      "print(\"Hello world\")\n"
     ],
     "language": "python",
     "metadata": {},
     "outputs": [
      {
       "output_type": "stream",
       "stream": "stdout",
       "text": [
        "Hello world\n"
       ]
      }
     ],
     "prompt_number": 2
    },
    {
     "cell_type": "markdown",
     "metadata": {},
     "source": [
      "\n",
      "\n",
      "[\\[Retour \u00e0 la table des mati\u00e8res\\]](#contenu)\n",
      "\n",
      "------------------------------------------------------------------------"
     ]
    },
    {
     "cell_type": "markdown",
     "metadata": {},
     "source": [
      "Manipulation de variables\n",
      "-------------------------\n",
      "\n",
      "En informatique, les variables associent un nom (l'identifiant) \u00e0 une\n",
      "valeur. Cr\u00e9er une variable est tr\u00e8s simple, il suffira d'utiliser\n",
      "l'op\u00e9rateur d'affectation '=' (aussi appel\u00e9 op\u00e9rateur d'assignation).\n",
      "\n",
      "En Python, les variables sont <span class=\"concept\">typ\u00e9es</span>,\n",
      "c'est-\u00e0-dire qu'une variable pr\u00e9sentera des comportements diff\u00e9rents en\n",
      "fonction des types d'information qu'elle contient (nombres entiers,\n",
      "nombres d\u00e9cimaux, cha\u00eenes de caract\u00e8res, ...).\n",
      "\n",
      "### Variables num\u00e9riques\n",
      "\n",
      "Copiez-collez les instructions suivantes dans iPython, ligne par ligne.\n",
      "Analysez les r\u00e9sulats et tentez de comprendre la fa\u00e7on dont\n",
      "l'interpr\u00e9teur traite ces commandes. Certains r\u00e9sultats seront parfois\n",
      "un peu d\u00e9routants pour les d\u00e9butants, mais leur logique sera discut\u00e9e\n",
      "durant les TD, et l'usage du langage s'\u00e9clairera au fil de la\n",
      "progression du cours.\n",
      "\n"
     ]
    },
    {
     "cell_type": "code",
     "collapsed": false,
     "input": [
      "# Note: tout ce qui se trouve \u00e0 droite du caract\u00e8re '#' \n",
      "# est un commentaire (non interpr\u00e9t\u00e9 par python)\n",
      "\n",
      "# On affecte la valeur '2' \u00e0 une variable qu'on appelle 'a'\n",
      "a = 2\n",
      "\n",
      "# Quel est la valeur contenue dans a ?\n",
      "a\n",
      "\n",
      "# Quel est le type de cette variable ?\n",
      "type(a) # R\u00e9ponse: int (integer). La variable contient un nombre entier.\n",
      "\n",
      "# On affecte la valeur 2.0 \u00e0 a\n",
      "a = 2.0\n",
      "\n",
      "# Quel est le type de cette variable ?\n",
      "type(a) # float (float). Un nombre \u00e0 virgule flottante (i.e un r\u00e9el).\n",
      "\n",
      "# On affecte la valeur 4 \u00e0 b\n",
      "b = 4\n",
      "\n",
      "# Quel est la valeur de b ?\n",
      "b\n",
      "\n",
      "# c contient la somme des valeurs courantes de  a et b \n",
      "c = a + b\n",
      "\n",
      "# Quelle est la valeur de  c ? Quel est le type de c ?\n",
      "c\n",
      "type(c)\n",
      "\n",
      "# Rem\u00e9morons-nous les valeurs des variables (a, b, c)\n",
      "print (a,b,c)\n",
      "\n"
     ],
     "language": "python",
     "metadata": {},
     "outputs": [
      {
       "output_type": "stream",
       "stream": "stdout",
       "text": [
        "(2.0, 4, 6.0)\n"
       ]
      }
     ],
     "prompt_number": 4
    },
    {
     "cell_type": "markdown",
     "metadata": {},
     "source": [
      "\n",
      "Dans l'exemple pr\u00e9c\u00e9dent, nous avons assign\u00e9 des valeurs aux variables\n",
      "<span class=\"variable\">a</span> (`a=2.0`) et <span\n",
      "class=\"variable\">b</span> (`b=4`), puis assign\u00e9 \u00e0 la variable <span\n",
      "class=\"variable\">c</span> le r\u00e9sultat d'un calcul (`c=a+b`).\n",
      "Conform\u00e9ment \u00e0 nos attentes, la variable <span class=\"variable\">c</span>\n",
      "contient le r\u00e9sultat de la somme de <span class=\"variable\">a</span> et\n",
      "<span class=\"variable\">b</span>.\n",
      "\n",
      "Que ce passe-t-il si on change la valeur de <span\n",
      "class=\"variable\">b</span> ?\n"
     ]
    },
    {
     "cell_type": "code",
     "collapsed": false,
     "input": [
      "b = 10 \n",
      "print(a,b,c) # expliquez"
     ],
     "language": "python",
     "metadata": {},
     "outputs": [
      {
       "output_type": "stream",
       "stream": "stdout",
       "text": [
        "(2.0, 10, 6.0)\n"
       ]
      }
     ],
     "prompt_number": 5
    },
    {
     "cell_type": "markdown",
     "metadata": {},
     "source": [
      "Le fait de changer la valeur de <span class=\"variable\">b</span> n'a pas\n",
      "affect\u00e9 le contenu de la variable <span class=\"variable\">c</span>. En\n",
      "math\u00e9matique, quand on \u00e9crit une \u00e9quation (par exemple *c = a + b*, la\n",
      "relation ainsi d\u00e9finie prend valeur de v\u00e9rit\u00e9 pour l'ensemble des\n",
      "d\u00e9veloppements ult\u00e9rieurs. Il en va autrement en programmation: l'<span\n",
      "class=\"concept\">assignation</span> `c=a+b` a pour effet de cr\u00e9er ou\n",
      "modifier le contenu d'un espace de m\u00e9moire. Si l'on change ensuite le\n",
      "contenu d'une des variables impliqu\u00e9es dans la relation (`b=10`), la\n",
      "variable <span class=\"variable\">c</span> n'a pas de raison de changer\n",
      "tant qu'on ne l'a pas r\u00e9-assign\u00e9e."
     ]
    },
    {
     "cell_type": "code",
     "collapsed": false,
     "input": [
      "# Re-calculer la somme des valeurs de a et b, \n",
      "# et mettre \u00e0 jour le contenu de la variable c\n",
      "c = a + b\n",
      "\n",
      "# la valeur de c correspond maintenant \u00e0 la somme de a et b\n",
      "print(a,b,c)"
     ],
     "language": "python",
     "metadata": {},
     "outputs": [
      {
       "output_type": "stream",
       "stream": "stdout",
       "text": [
        "(2.0, 10, 12.0)\n"
       ]
      }
     ],
     "prompt_number": 6
    },
    {
     "cell_type": "markdown",
     "metadata": {},
     "source": [
      "Ce type de notation permet notamment d'<span\n",
      "class=\"concept\">incr\u00e9menter</span> le contenu d'une variable, en\n",
      "ajoutant une valeur (par exemple la constante 1) \u00e0 son propre contenu."
     ]
    },
    {
     "cell_type": "code",
     "collapsed": false,
     "input": [
      "d = 0\n",
      "print(d)\n",
      "\n",
      "d = d+1\n",
      "print(d)\n",
      "\n",
      "d = d+1\n",
      "print(d)\n",
      "\n",
      "d = d+1\n",
      "print(d)"
     ],
     "language": "python",
     "metadata": {},
     "outputs": [
      {
       "output_type": "stream",
       "stream": "stdout",
       "text": [
        "0\n",
        "1\n",
        "2\n",
        "3\n"
       ]
      }
     ],
     "prompt_number": 7
    },
    {
     "cell_type": "markdown",
     "metadata": {},
     "source": [
      "On constate, ici encore, la **diff\u00e9rence entre la formulation math\u00e9matique\n",
      "d'une \u00e9quation et l'assignation d'une variable en programmation**. En\n",
      "math\u00e9matiques, l'\u00e9quation *d=d+1* est fausse, puisqu'il est impossible\n",
      "qu'un nombre soit \u00e9gal \u00e0 la somme de sa valeur et du nombre 1. En\n",
      "informatique, l'instruction `d=d+1` est parfaitement valide, elle\n",
      "indique qu'il faut incr\u00e9menter d'une unit\u00e9 le contenu de la variable d.\n",
      "\n",
      "#### Calcul sur des variables\n",
      "\n",
      "Les op\u00e9rateurs math\u00e9matiques classiques peuvent \u00eatre utilis\u00e9s sur des\n",
      "entiers et flottants."
     ]
    },
    {
     "cell_type": "code",
     "collapsed": false,
     "input": [
      "a = 4.0\n",
      "type(a) # v\u00e9rifions le type de la variable 'a'. Elle contient un nombre d\u00e9cimal\n",
      "a/3\n",
      "type(a*3)\n",
      "\n",
      "# On peut donc utiliser IPython comme une calculatrice\n",
      "3*(2+4)"
     ],
     "language": "python",
     "metadata": {},
     "outputs": [
      {
       "metadata": {},
       "output_type": "pyout",
       "prompt_number": 9,
       "text": [
        "18"
       ]
      }
     ],
     "prompt_number": 9
    },
    {
     "cell_type": "markdown",
     "metadata": {},
     "source": [
      "<div class=\"exo\">\n",
      "\n",
      "Effectuez les exercices suivants:\n",
      "\n",
      "\n",
      "-   Cr\u00e9ez une variable <span class=\"variable\">i</span> et assignez lui\n",
      "    la valeur 100.\n",
      "-   Quel est le type de <span class=\"variable\">i</span>.\n",
      "-   Cr\u00e9ez une variable <span class=\"variable\">j</span> et assignez lui\n",
      "    la valeur 5.0.\n",
      "-   Quel est le type de <span class=\"variable\">j</span> ?\n",
      "-   Cr\u00e9ez la variable k qui contient la somme de <span\n",
      "    class=\"variable\">i</span> et <span class=\"variable\">j</span>.\n",
      "-   Quel est le type de <span class=\"variable\">k</span> ?\n",
      "\n",
      "\n",
      "</div>\n",
      "\n",
      "\n",
      "**Solution**"
     ]
    },
    {
     "cell_type": "code",
     "collapsed": false,
     "input": [
      "i = 100     # on assigne 100 \u00e0 i\n",
      "type(i)     # Le type de i (int)\n",
      "j = 5.0     # j vaut 5.0    \n",
      "type(j)     # j est un float.\n",
      "k = i + j   # k prend la somme\n",
      "type(k)     # k est un float\n"
     ],
     "language": "python",
     "metadata": {},
     "outputs": [
      {
       "metadata": {},
       "output_type": "pyout",
       "prompt_number": 15,
       "text": [
        "float"
       ]
      }
     ],
     "prompt_number": 15
    },
    {
     "cell_type": "markdown",
     "metadata": {},
     "source": [
      "### Variables de type 'cha\u00eenes de caract\u00e8res'\n",
      "\n",
      "#### Assignation d'une variable \u00e0 une cha\u00eene de caract\u00e8res\n",
      "\n",
      "Copiez-collez les instructions suivantes dans IPython, ligne par ligne,\n",
      "et tentez d'interpr\u00e9ter le r\u00e9sultat.\n",
      "\n"
     ]
    },
    {
     "cell_type": "code",
     "collapsed": false,
     "input": [
      "# On peut affecter une cha\u00eene de caract\u00e8res \u00e0 une variable\n",
      "# Cette variable est alors de type \"cha\u00eene de caract\u00e8res\". \n",
      "nom_de_fichier = \"refGene\"\n",
      "type(nom_de_fichier) # str (string). Une cha\u00eene de charact\u00e8res.\n",
      "\n",
      "# Que contient la variable nom_de_fichier ? \n",
      "nom_de_fichier"
     ],
     "language": "python",
     "metadata": {},
     "outputs": [
      {
       "metadata": {},
       "output_type": "pyout",
       "prompt_number": 16,
       "text": [
        "'refGene'"
       ]
      }
     ],
     "prompt_number": 16
    },
    {
     "cell_type": "markdown",
     "metadata": {},
     "source": [
      "Notez qu'en tapant simplement le nom de la variable comme ci-dessus,\n",
      "Python affiche son contenu entre guillemets simple ('apostrophes'), pour\n",
      "indiquer qu'il s'agit d'une **cha\u00eene de caract\u00e8res**.\n",
      "\n",
      "On peut afficher le contenu de la variable en utilisant la fonction\n",
      "Python **print()**. Notez que cette fonction affiche le contenu sans\n",
      "l'entourer de guillemets."
     ]
    },
    {
     "cell_type": "code",
     "collapsed": false,
     "input": [
      "# Imprimer le contenu de la variable nom_de_fichier\n",
      "print(nom_de_fichier)\n",
      "\n",
      "# Notez que la commande suivante produit une erreur.\n",
      "nom_de_fichier = refGene  \n",
      "# Comment expliquez-vous cette erreur ?"
     ],
     "language": "python",
     "metadata": {},
     "outputs": [
      {
       "output_type": "stream",
       "stream": "stdout",
       "text": [
        "refGene\n"
       ]
      },
      {
       "ename": "NameError",
       "evalue": "name 'refGene' is not defined",
       "output_type": "pyerr",
       "traceback": [
        "\u001b[0;31m---------------------------------------------------------------------------\u001b[0m\n\u001b[0;31mNameError\u001b[0m                                 Traceback (most recent call last)",
        "\u001b[0;32m<ipython-input-17-2862ccca514c>\u001b[0m in \u001b[0;36m<module>\u001b[0;34m()\u001b[0m\n\u001b[1;32m      3\u001b[0m \u001b[0;34m\u001b[0m\u001b[0m\n\u001b[1;32m      4\u001b[0m \u001b[0;31m# Notez que la commande suivante produit une erreur.\u001b[0m\u001b[0;34m\u001b[0m\u001b[0;34m\u001b[0m\u001b[0m\n\u001b[0;32m----> 5\u001b[0;31m \u001b[0mnom_de_fichier\u001b[0m \u001b[0;34m=\u001b[0m \u001b[0mrefGene\u001b[0m\u001b[0;34m\u001b[0m\u001b[0m\n\u001b[0m\u001b[1;32m      6\u001b[0m \u001b[0;31m# Comment expliquez-vous cette erreur ?\u001b[0m\u001b[0;34m\u001b[0m\u001b[0;34m\u001b[0m\u001b[0m\n",
        "\u001b[0;31mNameError\u001b[0m: name 'refGene' is not defined"
       ]
      }
     ],
     "prompt_number": 17
    },
    {
     "cell_type": "markdown",
     "metadata": {},
     "source": [
      "Dans le cas ci-dessus, nous avons demand\u00e9 \u00e0 Python de copier le contenu\n",
      "d'une variable appel\u00e9e refGene dans une autre variable appel\u00e9e\n",
      "nom\\_de\\_fichier. Cependant **il n'existe pas de variable nomm\u00e9e refGene**\n",
      "(puisque nous n'en avons pas d\u00e9fini).\n",
      "\n",
      "Ceci illustre un aspect important de la syntaxe: **pour sp\u00e9cifier le\n",
      "contenu d'une cha\u00eene de caract\u00e8res, il faut entourer ce contenu de\n",
      "d\u00e9limitateurs (guillemets simples ou doubles)**. Un mot sans d\u00e9limitateurs\n",
      "sera interpr\u00e9t\u00e9 comme nom de variable, et non comme cha\u00eene de caract\u00e8re.\n",
      "\n",
      "#### Concat\u00e9nation\n",
      "\n",
      "En Python, la concat\u00e9nation de cha\u00eenes de caract\u00e8res se fait tr\u00e8s\n",
      "simplement au moyen de l'op\u00e9rateur \"+\"."
     ]
    },
    {
     "cell_type": "code",
     "collapsed": false,
     "input": [
      "# On affecte la valeur \".txt\" \u00e0 une variable nomm\u00e9e 'extension'\n",
      "extension = \".txt\"\n",
      "\n",
      "# Quel est le contenu de la variable extension ? \n",
      "print(extension)\n",
      "\n",
      "# Quel est son type ?\n",
      "type(extension)\n",
      "\n",
      "# On peut 'concat\u00e9ner' des cha\u00eenes de caract\u00e8res avec l'op\u00e9rateur +\n",
      "nom_complet = nom_de_fichier + extension\n",
      "\n",
      "# Attention on ne peut concat\u00e9ner que des cha\u00eenes entre elle:\n",
      "a = 2.0\n",
      "type(a)\n",
      "type(nom_de_fichier)\n",
      "#nom_de_fichier + a # Quelle erreur est renvoy\u00e9e ?\n",
      "\n",
      "# Pour concat\u00e9ner nom_de_fichier et la variable a, il faut\n",
      "# convertir cette derni\u00e8re en cha\u00eene de caract\u00e8re:\n",
      "nom_de_fichier + str(a) # maintenant \u00e7a fonctionne\n",
      "\n",
      "# La fonction str() utilis\u00e9e ci-dessus a pour effet de\n",
      "# convertir une variable en une cha\u00eene de caract\u00e8re.\n",
      "str(27)\n"
     ],
     "language": "python",
     "metadata": {},
     "outputs": [
      {
       "output_type": "stream",
       "stream": "stdout",
       "text": [
        ".txt\n"
       ]
      },
      {
       "ename": "TypeError",
       "evalue": "cannot concatenate 'str' and 'float' objects",
       "output_type": "pyerr",
       "traceback": [
        "\u001b[0;31m---------------------------------------------------------------------------\u001b[0m\n\u001b[0;31mTypeError\u001b[0m                                 Traceback (most recent call last)",
        "\u001b[0;32m<ipython-input-19-15ad993bf2c4>\u001b[0m in \u001b[0;36m<module>\u001b[0;34m()\u001b[0m\n\u001b[1;32m     15\u001b[0m \u001b[0mtype\u001b[0m\u001b[0;34m(\u001b[0m\u001b[0ma\u001b[0m\u001b[0;34m)\u001b[0m\u001b[0;34m\u001b[0m\u001b[0m\n\u001b[1;32m     16\u001b[0m \u001b[0mtype\u001b[0m\u001b[0;34m(\u001b[0m\u001b[0mnom_de_fichier\u001b[0m\u001b[0;34m)\u001b[0m\u001b[0;34m\u001b[0m\u001b[0m\n\u001b[0;32m---> 17\u001b[0;31m \u001b[0mnom_de_fichier\u001b[0m \u001b[0;34m+\u001b[0m \u001b[0ma\u001b[0m \u001b[0;31m# Quelle erreur est renvoy\u00e9e ?\u001b[0m\u001b[0;34m\u001b[0m\u001b[0m\n\u001b[0m\u001b[1;32m     18\u001b[0m \u001b[0;34m\u001b[0m\u001b[0m\n\u001b[1;32m     19\u001b[0m \u001b[0;31m# Pour concat\u00e9ner nom_de_fichier et la variable a, il faut\u001b[0m\u001b[0;34m\u001b[0m\u001b[0;34m\u001b[0m\u001b[0m\n",
        "\u001b[0;31mTypeError\u001b[0m: cannot concatenate 'str' and 'float' objects"
       ]
      }
     ],
     "prompt_number": 19
    },
    {
     "cell_type": "code",
     "collapsed": false,
     "input": [],
     "language": "python",
     "metadata": {},
     "outputs": []
    }
   ],
   "metadata": {}
  }
 ]
}