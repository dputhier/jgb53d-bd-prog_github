{
 "metadata": {
  "name": "",
  "signature": "sha256:c7f237923020073aa6fde97b039150d56feab5cf1e0e4c4572741f0cf2d0a8ea"
 },
 "nbformat": 3,
 "nbformat_minor": 0,
 "worksheets": []
}