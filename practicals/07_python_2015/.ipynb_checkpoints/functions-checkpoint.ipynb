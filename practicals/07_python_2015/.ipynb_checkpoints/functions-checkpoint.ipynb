{
 "metadata": {
  "celltoolbar": "Raw Cell Format",
  "name": "",
  "signature": "sha256:a29ae165e351ca6a93ba07209f5ef6cd08d872e660649d5fc2f1f30e80d30cfa"
 },
 "nbformat": 3,
 "nbformat_minor": 0,
 "worksheets": [
  {
   "cells": [
    {
     "cell_type": "markdown",
     "metadata": {},
     "source": [
      "## Objectif\n",
      "\n",
      "Recoder l'ensemble de nos petits programmes (head, cut, count, nb_exons, tx_len) sous la forme de fonctions (voir la derni\u00e8re partie de partie th\u00e9orique sur les fonctions).\n",
      "\n",
      "\n",
      "### R\u00e9cup\u00e9rer les programmes\n",
      "\n",
      "Afin de faciliter le travail, je vous propose de t\u00e9l\u00e9charger les programmes et donn\u00e9es d'entr\u00e9e (fichier GTF) ici : [all_progs_and_data.tar.gz](../progs_2015/all_progs_and_data.tar.gz).\n",
      "\n",
      "D\u00e9compressez cette archive \u00e0 l'aide de la commande:\n"
     ]
    },
    {
     "cell_type": "markdown",
     "metadata": {},
     "source": [
      "tar xvfz all_progs_and_data.tar.gz"
     ]
    },
    {
     "cell_type": "markdown",
     "metadata": {},
     "source": [
      "### Eliminer la redondance"
     ]
    },
    {
     "cell_type": "markdown",
     "metadata": {},
     "source": [
      "Nous avons plusieurs fois eu besoin de r\u00e9cup\u00e9rer le nom du transcrit. Puisqu'il semble y avoir n\u00e9cessit\u00e9 de faire cette op\u00e9ration de mani\u00e8re r\u00e9currente (et cela se produira peut-\u00eatre \u00e0 nouveau), nous allons cr\u00e9er une fonction. "
     ]
    },
    {
     "cell_type": "markdown",
     "metadata": {},
     "source": [
      "* Cr\u00e9er un fichier nomm\u00e9 utils.py (dans lequel nous mettrons nos futures fonctions). Placer ce fichier dans le m\u00eame dossier que les programmes. Impl\u00e9menter dans ce fichier une fonction  **get_tx_name** qui \u00e0 partir de la colonne 9 du GTF (une cha\u00eene de caract\u00e8re) permet de renvoyer le nom du transcrit."
     ]
    },
    {
     "cell_type": "markdown",
     "metadata": {},
     "source": [
      "* Cr\u00e9er un fichier vide nomm\u00e9 __init__.py"
     ]
    },
    {
     "cell_type": "markdown",
     "metadata": {},
     "source": [
      "* Modifiez les programmes **count.py nb_exons.py et tx_len.py** pour qu'il fassent appelle \u00e0 cette fonction. Penser \u00e0 utiliser la ligne ci-dessous dans vos programmmes utilisant la fonction  **get_tx_name**. Elle permet d'indiquer \u00e0 python que cette fonction se trouve dans un autre fichier."
     ]
    },
    {
     "cell_type": "code",
     "collapsed": false,
     "input": [
      "from utils import get_tx_name"
     ],
     "language": "python",
     "metadata": {},
     "outputs": []
    }
   ],
   "metadata": {}
  }
 ]
}