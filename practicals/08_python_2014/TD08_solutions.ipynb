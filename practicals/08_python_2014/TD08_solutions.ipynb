{
 "metadata": {
  "name": "",
  "signature": "sha256:5d2871d525f27dd3ffa2b130ae7925c41391ce697cac436b30df32dc79ea9070"
 },
 "nbformat": 3,
 "nbformat_minor": 0,
 "worksheets": [
  {
   "cells": [
    {
     "cell_type": "heading",
     "level": 1,
     "metadata": {},
     "source": [
      "TD08 - Exercises around fasta-formatted sequences files"
     ]
    },
    {
     "cell_type": "heading",
     "level": 2,
     "metadata": {},
     "source": [
      "Reading a fasta file"
     ]
    },
    {
     "cell_type": "markdown",
     "metadata": {},
     "source": [
      "**Exercise** \n",
      "Write a function that takes as input the name of a fasta file, reads its content, display the number of genes anr returns a discionary associating each gene ID to its sequence."
     ]
    },
    {
     "cell_type": "heading",
     "level": 3,
     "metadata": {},
     "source": [
      "<hr>\n",
      "Defining a function to read a sequence file"
     ]
    },
    {
     "cell_type": "markdown",
     "metadata": {},
     "source": [
      "Fasta files are structured as follows:\n",
      "\n",
      "- Rows starting with a '>' symbol are called \"header\" rows. The header includes the identifier of the next sequence (defined as all the text following the '>' until the first spacing or the newline character '\\\\n'), and may optionally contain additional comments (any text located after the first space of the header is considered as comment text). There can be only one sequence header per sequence. \n",
      "\n",
      "- The other rows correspond to the sequences themselves. A same sequence can come on several successive rows.\n",
      "\n",
      "A fasta file can contain one or several sequences: each time a new header line is found, we will thus need to initialize a new sequence. We will then concatenate all the following rows to get the sequence, until we encounter a new header line or the end of the file.\n",
      "\n",
      "A slight difficulty will be to extract sequence identifiers from the header rows. We will need to strip out the leading symbol ('>'), the newline character at the end of the row ('\\\\n'), and to ignore the comments. Thus, we need to select all the text from the leading '>' up to the first spacing character.\n",
      "\n"
     ]
    },
    {
     "cell_type": "heading",
     "level": 3,
     "metadata": {},
     "source": [
      "Solution 1: fiddling around to select the ID"
     ]
    },
    {
     "cell_type": "code",
     "collapsed": false,
     "input": [
      "def read_fasta_file_1(file_name):\n",
      "    \"\"\"\n",
      "    This function reads a sequence file in fasta format, and returns a\n",
      "    dictionnary with one entry per sequence (key=ID, value = sequence).\n",
      "\n",
      "    Args:\n",
      "        file_name: name of the input file. This file is supposed to be formated in fasta.\n",
      "\n",
      "    Return: \n",
      "        seq_dict: a dictionary with sequence IDs as keys, and sequences as values\n",
      "\n",
      "    Examples:\n",
      "        plasmoCodingGenes = read_fasta_file_1(\"PlasmoDB-12.0_Pfalciparum3D7_AnnotatedCDSs.fa\")\n",
      "    \"\"\"\n",
      "    myFile = open(file_name,\"r\")\n",
      "    print(\"Reading sequences from file\\n\", \"\\t\", file_name)\n",
      "    geneName = \"\" ## initialize an embty geneName variable\n",
      "    seq_dict = {} ## initialize an empty dictionary to store all sequences\n",
      "    for line in myFile: ## Successively read each line of the input file\n",
      "        if line.startswith(\">\"): ## Test if the current line is a fasta header line\n",
      "            if not \" \" in line : ## If there is no space in the header line, everything that follows the \">\" is considered as identifier\n",
      "                geneName = line[1:-1] ## Ignore the leading \">\", and the trailing letter, which is a return character\n",
      "            else:\n",
      "                geneName = line[1:line.index(\" \")] # Ignore all text following the space (fasta comments)\n",
      "            seq_dict[geneName] = \"\"; ## Create an empty entry in the dictionary for the current sequence\n",
      "        else: ## Treat other lines than the fasta header lines, i.e. sequences\n",
      "            seq_dict[geneName]+=line[:-1].upper() ## convert sequence to uppercases, and append it to current sequence\n",
      "    myFile.close() ## Close the input file after having read all lines\n",
      "    print(\"Number of sequences\\t\", len(seq_dict.keys())) ## Report the number of sequences read\n",
      "    return seq_dict ## Return the result (dictionary of sequences)"
     ],
     "language": "python",
     "metadata": {},
     "outputs": [],
     "prompt_number": 15
    },
    {
     "cell_type": "markdown",
     "metadata": {},
     "source": [
      "Note that the function starts with some comments explaining what it does, and describing the arguments and return type.\n",
      "This documentation is quite simple to formulate, and is extremely useful to help users.\n",
      "\n",
      "As soon as the function is documented in this way, it is equipped with an on-line help message, as shown below."
     ]
    },
    {
     "cell_type": "code",
     "collapsed": false,
     "input": [
      "help(read_fasta_file_1)"
     ],
     "language": "python",
     "metadata": {},
     "outputs": [
      {
       "output_type": "stream",
       "stream": "stdout",
       "text": [
        "Help on function read_fasta_file_1 in module __main__:\n",
        "\n",
        "read_fasta_file_1(file_name)\n",
        "    This function reads a sequence file in fasta format, and returns a\n",
        "    dictionnary with one entry per sequence (key=ID, value = sequence).\n",
        "    \n",
        "    Args:\n",
        "        file_name: name of the input file. This file is supposed to be formated in fasta.\n",
        "    \n",
        "    Return: \n",
        "        seq_dict: a dictionary with sequence IDs as keys, and sequences as values\n",
        "    \n",
        "    Examples:\n",
        "        plasmoCodingGenes = read_fasta_file(\"PlasmoDB-12.0_Pfalciparum3D7_AnnotatedCDSs.fa\")\n",
        "\n"
       ]
      }
     ],
     "prompt_number": 16
    },
    {
     "cell_type": "heading",
     "level": 3,
     "metadata": {},
     "source": [
      "<hr>\n",
      "Handling directories and listing files"
     ]
    },
    {
     "cell_type": "markdown",
     "metadata": {},
     "source": [
      "Before testing  our method to read a sequence file, we must know where this file is stored on our computer.\n",
      "The code below shows some useful functions fro the *os* library (*os* stands for *operating system*), which will allow us to specify directories, and list the files they contain. The result should vary from user to user, according to yourlocal configuration. \n",
      "\n",
      "For this exercise, we will assume that you already created in the root of your accound: \n",
      "- a directory named \"jgb53d-bd-prog\", for the content of this course\n",
      "- a sub-directory \"jgb53d-bd-prog/data\" for all the data\n",
      "- a sub-directory \"jgb53d-bd-prog/data/sequences\" do store sequences\n",
      "\n",
      "You should also have downloaded the two sequence files used in this tutorial, containing all the nucleotidic coding sequences for the two following organisms:\n",
      "- the enterobacteria *Escherichia coli* (fasta file Escherichia_coli_str_K-12_substr_MG1655.PATRIC.fa)\n",
      "- the vector of malaria, *Plasmodium falciparum* (fasta file PlasmoDB-12.0_Pfalciparum3D7_AnnotatedCDSs.fa)\n"
     ]
    },
    {
     "cell_type": "code",
     "collapsed": false,
     "input": [
      "## Before doing the analysis, we will check our current working directory\n",
      "## The result should differ for each person, depending on the configuration of your computer.\n",
      "\n",
      "import os\n",
      "\n",
      "## Print the current working directory\n",
      "print(\"Current working directory = \" + os.getcwd())\n",
      "\n",
      "## Get home directory\n",
      "home_dir = os.path.expanduser('~')\n",
      "print(\"Home directory = \" + home_dir)\n",
      "\n",
      "## Specify the data directory\n",
      "course_dir = os.path.join(home_dir, \"jgb53d-bd-prog\")\n",
      "seq_dir = os.path.join(course_dir, \"data\", \"sequences\")\n",
      "print(\"Sequence directory = \" + seq_dir)\n",
      "\n",
      "## List all files in the data directory\n",
      "seq_files = os.listdir(seq_dir)\n",
      "print(seq_files)\n",
      "\n",
      "## Specify the full path of the organism-specific sequence files\n",
      "ecoli_seq_file = os.path.join(seq_dir, \"Escherichia_coli_str_K-12_substr_MG1655.PATRIC.fa\")\n",
      "print(\"E.coli CDS file : \" +ecoli_seq_file)\n",
      "plasmodium_seq_file = os.path.join(seq_dir, \"PlasmoDB-12.0_Pfalciparum3D7_AnnotatedCDSs.fa\")\n",
      "print(\"P.falciparum CDS file: \" + plasmodium_seq_file)"
     ],
     "language": "python",
     "metadata": {},
     "outputs": [
      {
       "output_type": "stream",
       "stream": "stdout",
       "text": [
        "Current working directory = /Users/jvanheld/Documents/enseignement/bioinformatics_courses/jgb53d-bd-prog/practicals/08_python\n",
        "Home directory = /Users/jvanheld\n",
        "Sequence directory = /Users/jvanheld/jgb53d-bd-prog/data/sequences\n",
        "['Escherichia_coli_aa.fa', 'Escherichia_coli_str_K-12_substr_MG1655.PATRIC.fa', 'PlasmoDB-12.0_Pfalciparum3D7_AnnotatedCDSs.fa', 'Plasmodium_falciparum_aa.fa']\n",
        "E.coli CDS file : /Users/jvanheld/jgb53d-bd-prog/data/sequences/Escherichia_coli_str_K-12_substr_MG1655.PATRIC.fa\n",
        "P.falciparum CDS file: /Users/jvanheld/jgb53d-bd-prog/data/sequences/PlasmoDB-12.0_Pfalciparum3D7_AnnotatedCDSs.fa\n"
       ]
      }
     ],
     "prompt_number": 17
    },
    {
     "cell_type": "heading",
     "level": 3,
     "metadata": {},
     "source": [
      "<hr>Test: reading CDS files"
     ]
    },
    {
     "cell_type": "markdown",
     "metadata": {},
     "source": [
      "We can now use the function **read_fasta_file_1()** defined above to read all coding sequences from *Escherichia coli*."
     ]
    },
    {
     "cell_type": "code",
     "collapsed": false,
     "input": [
      "## Read all sequences from the Escherichia coli file\n",
      "print(\"\\nReading all CDS for Escherichia coli\")\n",
      "coli_cds = read_fasta_file_1(ecoli_seq_file)\n",
      "\n",
      "print(\"\\nReading all CDS for Plasmodium falciparum\\n\")\n",
      "plasmodium_cds = read_fasta_file_1(plasmodium_seq_file)"
     ],
     "language": "python",
     "metadata": {},
     "outputs": [
      {
       "output_type": "stream",
       "stream": "stdout",
       "text": [
        "\n",
        "Reading all CDS for Escherichia coli\n",
        "Reading sequences from file\n",
        " \t /Users/jvanheld/jgb53d-bd-prog/data/sequences/Escherichia_coli_str_K-12_substr_MG1655.PATRIC.fa\n",
        "Number of sequences\t"
       ]
      },
      {
       "output_type": "stream",
       "stream": "stdout",
       "text": [
        " 4549\n",
        "\n",
        "Reading all CDS for Plasmodium falciparum\n",
        "\n",
        "Reading sequences from file\n",
        " \t /Users/jvanheld/jgb53d-bd-prog/data/sequences/PlasmoDB-12.0_Pfalciparum3D7_AnnotatedCDSs.fa\n",
        "Number of sequences\t"
       ]
      },
      {
       "output_type": "stream",
       "stream": "stdout",
       "text": [
        " 5542\n"
       ]
      }
     ],
     "prompt_number": 18
    },
    {
     "cell_type": "heading",
     "level": 3,
     "metadata": {},
     "source": [
      "<hr>\n",
      "Second solution: using string methods to extrat sequence IDs"
     ]
    },
    {
     "cell_type": "markdown",
     "metadata": {},
     "source": [
      "We will now develop a cleaner solution , where we use the string methods lstrip(), rstrip(), split() to extract the gene ID from the sequence header.\n"
     ]
    },
    {
     "cell_type": "code",
     "collapsed": false,
     "input": [
      "def read_fasta_file_2(file_name):\n",
      "    \"\"\"\n",
      "    This function reads a sequence file in fasta format, and returns a\n",
      "    dictionnary with one entry per sequence (key=ID, value = sequence).\n",
      "\n",
      "    Args:\n",
      "        file_name: name of the input file. This file is supposed to be formated in fasta.\n",
      "\n",
      "    Return: \n",
      "        seq_dict: a dictionary with sequence IDs as keys, and sequences as values\n",
      "\n",
      "    Examples:\n",
      "        plasmoCodingGenes = read_fasta_file_2(\"PlasmoDB-12.0_Pfalciparum3D7_AnnotatedCDSs.fa\")\n",
      "    \"\"\"\n",
      "    print(\"Reading sequences from file\\n\", \"\\t\", file_name)\n",
      "    my_file = open(file_name,\"r\") ## Open the sequence file in read mode\n",
      "    seq_dict = dict()         ## create the dictionnary that will contain the result\n",
      "    for line in my_file:          ## Iterate over the lines of the sequence file\n",
      "        if  line.startswith(\">\") :    ## Detect sequence headers (lines starting with \">\")\n",
      "          line = line.lstrip(\">\") ## Remove the leading \">\"\n",
      "          line = line.lstrip(\" \") ## Remove everything that follows the first space (comments)\n",
      "          tab = line.split(\"|\")   ## Split the sequence descriptor\n",
      "          gene_id = tab[0]        ## The first element of the splitted list contains the gene ID\n",
      "          line = line.rstrip(\" \")\n",
      "          seq_dict[gene_id] = \"\"   ## Initialize the nucleotidic sequence\n",
      "        else:                         ## Treatment for lines that do not correspond to a header\n",
      "          line = line.rstrip(\"\\n\")  ## Remove the carriage return at the end of the line\n",
      "          seq_dict[gene_id] += line.upper() ## Convert the sequence to uppercase, and append it to current sequence\n",
      "            \n",
      "    ## Close the input file\n",
      "    my_file.close()\n",
      "    \n",
      "    print(\"Number of sequences\\t\" , len(seq_dict.keys()))\n",
      "    return seq_dict"
     ],
     "language": "python",
     "metadata": {},
     "outputs": [],
     "prompt_number": 19
    },
    {
     "cell_type": "markdown",
     "metadata": {},
     "source": [
      "We can check that this second solution gives the same result as the previous one. "
     ]
    },
    {
     "cell_type": "code",
     "collapsed": false,
     "input": [
      "## Read all sequences from the Escherichia coli file\n",
      "print(\"\\nReading all CDS for Escherichia coli\")\n",
      "coli_cds = read_fasta_file_2(ecoli_seq_file)\n",
      "\n",
      "print(\"\\nReading all CDS for Plasmodium falciparum\\n\")\n",
      "plasmodium_cds = read_fasta_file_2(plasmodium_seq_file)"
     ],
     "language": "python",
     "metadata": {},
     "outputs": [
      {
       "output_type": "stream",
       "stream": "stdout",
       "text": [
        "\n",
        "Reading all CDS for Escherichia coli\n",
        "Reading sequences from file\n",
        " \t /Users/jvanheld/jgb53d-bd-prog/data/sequences/Escherichia_coli_str_K-12_substr_MG1655.PATRIC.fa\n",
        "Number of sequences\t"
       ]
      },
      {
       "output_type": "stream",
       "stream": "stdout",
       "text": [
        " 4549\n",
        "\n",
        "Reading all CDS for Plasmodium falciparum\n",
        "\n",
        "Reading sequences from file\n",
        " \t /Users/jvanheld/jgb53d-bd-prog/data/sequences/PlasmoDB-12.0_Pfalciparum3D7_AnnotatedCDSs.fa\n",
        "Number of sequences\t"
       ]
      },
      {
       "output_type": "stream",
       "stream": "stdout",
       "text": [
        " 5542\n"
       ]
      }
     ],
     "prompt_number": 20
    },
    {
     "cell_type": "heading",
     "level": 3,
     "metadata": {},
     "source": [
      "Solution 3: Reading a fasta file with regular expression"
     ]
    },
    {
     "cell_type": "code",
     "collapsed": false,
     "input": [
      "import re ## Import the regular expression (re) library\n",
      "\n",
      "def read_fasta_file(file_name):\n",
      "    \"\"\"\n",
      "    This function reads a sequence file in fasta format, and returns a\n",
      "    dictionnary with one entry per sequence (key=ID, value = sequence).\n",
      "\n",
      "    Args:\n",
      "        file_name: name of the input file. This file is supposed to be formated in fasta.\n",
      "\n",
      "    Return: \n",
      "        seq_dict: a dictionary with sequence IDs as keys, and sequences as values\n",
      "\n",
      "    Examples:\n",
      "        plasmoCodingGenes = read_fasta_file(\"PlasmoDB-12.0_Pfalciparum3D7_AnnotatedCDSs.fa\")\n",
      "\n",
      "    \"\"\"\n",
      "    print(\"Reading sequences from file\\n\", \"\\t\", file_name)\n",
      "    my_file = open(file_name,\"r\") ## Open the fasta sequence file in read mode\n",
      "    seq_dict = dict()         ## Initialize the dictionary which will contain the sequences\n",
      "\n",
      "    for line in my_file:\n",
      "        # The following regular expression searches strings \n",
      "        # - starting (\"^\") by the character \">\", \n",
      "        # - potentially followed by a space \" \"\n",
      "        # - followed by at least one non-space characters (\"[^ ]+\")\n",
      "        # The parentheses allow to capture the relevant part of the motif.\n",
      "        re_result = re.search(\"^> *([^ \\|]+)\", line) # This regExp can still be improved\n",
      "        if   re_result:                       ## We identified a new sequence header\n",
      "              gene_name = re_result.group(1)  ## Extract the gene name\n",
      "              seq_dict[gene_name] = \"\"    ## Initialize the dictionary entry for this gene name\n",
      "        else:\n",
      "              line = line.rstrip(\"\\n\")        ## Strip the trailing newline character\n",
      "              seq_dict[gene_name] += line.upper()  ## Append the sequence to the previous one\n",
      "    my_file.close()\n",
      "\n",
      "    print(\"Number of sequences\\t\" , len(seq_dict.keys()))\n",
      "    return seq_dict"
     ],
     "language": "python",
     "metadata": {},
     "outputs": [],
     "prompt_number": 20
    },
    {
     "cell_type": "code",
     "collapsed": false,
     "input": [
      "## Read all sequences from the Escherichia coli file\n",
      "print(\"\\nReading all CDS for Escherichia coli\")\n",
      "coli_cds = read_fasta_file(ecoli_seq_file)\n",
      "\n",
      "print(\"\\nReading all CDS for Plasmodium falciparum\\n\")\n",
      "plasmodium_cds = read_fasta_file(plasmodium_seq_file)"
     ],
     "language": "python",
     "metadata": {},
     "outputs": [
      {
       "output_type": "stream",
       "stream": "stdout",
       "text": [
        "\n",
        "Reading all CDS for Escherichia coli\n",
        "Reading sequences from file\n",
        " \t /Users/jvanheld/jgb53d-bd-prog/data/sequences/Escherichia_coli_str_K-12_substr_MG1655.PATRIC.fa\n",
        "Number of sequences\t"
       ]
      },
      {
       "output_type": "stream",
       "stream": "stdout",
       "text": [
        " 4549\n",
        "\n",
        "Reading all CDS for Plasmodium falciparum\n",
        "\n",
        "Reading sequences from file\n",
        " \t /Users/jvanheld/jgb53d-bd-prog/data/sequences/PlasmoDB-12.0_Pfalciparum3D7_AnnotatedCDSs.fa\n",
        "Number of sequences\t"
       ]
      },
      {
       "output_type": "stream",
       "stream": "stdout",
       "text": [
        " 5542\n"
       ]
      }
     ],
     "prompt_number": 25
    },
    {
     "cell_type": "heading",
     "level": 2,
     "metadata": {},
     "source": [
      "Reverse complementary sequence"
     ]
    },
    {
     "cell_type": "markdown",
     "metadata": {},
     "source": [
      "Write a function that computes the reverse complement of a sequence.\n",
      "Check that, after applying it to some sequence, the original sequence has not been modified (we don't want to loose the forward sequence)."
     ]
    },
    {
     "cell_type": "code",
     "collapsed": false,
     "input": [
      "def reverseComplement(seq):\n",
      "    \"\"\"Compute the reverse complement of a nucleotiduc sequence.\n",
      "    The current version only supports non-degenerated nucleotidic sequence. \n",
      "    This function could easily be extended to support IUPAC code.\n",
      "\n",
      "    Args:\n",
      "        seq -- input sequence (string)\n",
      "    Returns:\n",
      "        rc -- a string containing the reverse complementary sequence\n",
      "    \"\"\"\n",
      "\n",
      "    # The simplest way to reverse a sequence: read it with an iteration of -1\n",
      "    rev = seq[::-1]\n",
      "    \n",
      "    # Compute a \"translation table\" in the python sense.\n",
      "    # Note: \"translation\" has a more general meaning here than in biology.\n",
      "    transtab = str.maketrans(\"aAcCgGtT\",\"tTgGcCaA\")   \n",
      "    rev_cpl = rev.translate(transtab)\n",
      "    return rev_cpl"
     ],
     "language": "python",
     "metadata": {},
     "outputs": [],
     "prompt_number": 21
    },
    {
     "cell_type": "code",
     "collapsed": false,
     "input": [
      "# Create a test sequence. \n",
      "# Note the presence of lower-and upper-cases\n",
      "testSeq = \"aaaaTTttGCGCgcg\"\n",
      "print(\"Original sequence           \", \"\\t\", testSeq)\n",
      "\n",
      "## Compute the reverse complement\n",
      "rc = reverseComplement(testSeq) ## Compute the reverse complement\n",
      "print(\"Forward sequence (unchanged)\", \"\\t\", testSeq) ## Check that the function has no side effect on the input sequence\n",
      "print(\"Reverse complementary seq.  \", \"\\t\", rc)      ## Check the result\n",
      "\n",
      "## Yet another control: compute the reverse \n",
      "## complement of the reverse complement.\n",
      "rc_and_back = reverseComplement(rc)\n",
      "print(\"Forward sequence (unchanged)\", \"\\t\", testSeq) ## Check that the function has no side effect on the input sequence\n",
      "print(\"Rev.compl. of rev.compl.  \", \"\\t\", rc_and_back)      ## Check the result\n",
      "\n",
      "# We can check formally that the reverse complement of the reverse\n",
      "# complement equals the original sequence\n",
      "print (\"rc(rc(seq)) == seq ?\\t\", rc_and_back == testSeq)"
     ],
     "language": "python",
     "metadata": {},
     "outputs": [
      {
       "output_type": "stream",
       "stream": "Original sequence            \t aaaaTTttGCGCgcg\nForward sequence (unchanged) \t aaaaTTttGCGCgcg\nReverse complementary seq.   \t cgcGCGCaaAAtttt\nForward sequence (unchanged) \t aaaaTTttGCGCgcg\nRev.compl. of rev.compl.   \t aaaaTTttGCGCgcg\nrc(rc(seq)) == seq ?\t True\n",
       "text": [
        "Original sequence            \t aaaaTTttGCGCgcg\n",
        "Forward sequence (unchanged) \t aaaaTTttGCGCgcg\n",
        "Reverse complementary seq.   \t cgcGCGCaaAAtttt\n",
        "Forward sequence (unchanged) \t aaaaTTttGCGCgcg\n",
        "Rev.compl. of rev.compl.   \t aaaaTTttGCGCgcg\n",
        "rc(rc(seq)) == seq ?\t True\n"
       ]
      }
     ],
     "prompt_number": 22
    },
    {
     "cell_type": "heading",
     "level": 2,
     "metadata": {},
     "source": [
      "Translating nucleotidic into peptidic sequences"
     ]
    },
    {
     "cell_type": "markdown",
     "metadata": {},
     "source": [
      "### Exercise\n",
      "Write a function that translates nucleotidic sequences into peptidic sequences, using the codon dictionary (from codons to aminoacids) defined below. Use then your function to generate a fasta file with all the proteins of the studied organisms."
     ]
    },
    {
     "cell_type": "markdown",
     "metadata": {},
     "source": [
      "### Approach\n",
      "We will create a dictionary containing the genetic code (i.e. the correspondence between codons and aminoacids).\n",
      "Once this dictionary is defined, translation can be done simply by iterating over the sequence bysteps of 3, and getting the aminoacid (value of the dictionary) associated to each trinucleotide (key of the dictionary)."
     ]
    },
    {
     "cell_type": "code",
     "collapsed": false,
     "input": [
      "def translate_seq(nt_seq):\n",
      "    \"\"\"\n",
      "    Translates one nucleic sequence into the corresponding peptidic \n",
      "    sequence, using the canonical code of living organisms.\n",
      "    \n",
      "    Args: \n",
      "        nt_seq -- a nucleic sequence (string)\n",
      "\n",
      "    Returns:\n",
      "        aa_seq -- a peptidic sequence (string)\n",
      "\n",
      "    Example: \n",
      "        pep_seq = translate_seq(\"ATGTTTTATGTACATTAA\")\n",
      "    \"\"\"\n",
      "    \n",
      "    \n",
      "    ## Before anything else, check that the input sequence has a correct length (must be a multiple of 3)\n",
      "    if (len(nt_seq) %3):\n",
      "        raise Exception('translate_seq() : the length of input seq must be a multiple of 3.')\n",
      "    \n",
      "    ####################################\n",
      "    ##  Translation dictionary from codons (triplets of nucleotides) to aminoacids\n",
      "    ####################################\n",
      "    codon2AA = {}\n",
      "    codon2AA[\"ATT\"]=\"I\";codon2AA[\"ATC\"]=\"I\";codon2AA[\"ATA\"]=\"I\"\n",
      "    codon2AA[\"CTT\"]=\"L\";codon2AA[\"CTC\"]=\"L\";codon2AA[\"CTA\"]=\"L\";codon2AA[\"CTG\"]=\"L\";codon2AA[\"TTA\"]=\"L\";codon2AA[\"TTG\"]=\"L\"\n",
      "    codon2AA[\"GTT\"]=\"V\";codon2AA[\"GTC\"]=\"V\";codon2AA[\"GTA\"]=\"V\";codon2AA[\"GTG\"]=\"V\"\n",
      "    codon2AA[\"TTT\"]=\"F\";codon2AA[\"TTC\"]=\"F\"\n",
      "    codon2AA[\"ATG\"]=\"M\"\n",
      "    codon2AA[\"TGT\"]=\"C\";codon2AA[\"TGC\"]=\"C\"\n",
      "    codon2AA[\"GCT\"]=\"A\";codon2AA[\"GCC\"]=\"A\";codon2AA[\"GCA\"]=\"A\";codon2AA[\"GCG\"]=\"A\"\n",
      "    codon2AA[\"GGT\"]=\"G\";codon2AA[\"GGC\"]=\"G\";codon2AA[\"GGA\"]=\"G\";codon2AA[\"GGG\"]=\"G\"\n",
      "    codon2AA[\"CCT\"]=\"P\";codon2AA[\"CCC\"]=\"P\";codon2AA[\"CCA\"]=\"P\";codon2AA[\"CCG\"]=\"P\"\n",
      "    codon2AA[\"ACT\"]=\"T\";codon2AA[\"ACC\"]=\"T\";codon2AA[\"ACA\"]=\"T\";codon2AA[\"ACG\"]=\"T\"\n",
      "    codon2AA[\"TCT\"]=\"S\";codon2AA[\"TCC\"]=\"S\";codon2AA[\"TCA\"]=\"S\";codon2AA[\"TCG\"]=\"S\";codon2AA[\"AGT\"]=\"S\";codon2AA[\"AGC\"]=\"S\"\n",
      "    codon2AA[\"TAT\"]=\"Y\";codon2AA[\"TAC\"]=\"Y\"\n",
      "    codon2AA[\"TGG\"]=\"W\"\n",
      "    codon2AA[\"CAA\"]=\"Q\";codon2AA[\"CAG\"]=\"Q\"\n",
      "    codon2AA[\"AAT\"]=\"N\";codon2AA[\"AAC\"]=\"N\"\n",
      "    codon2AA[\"CAT\"]=\"H\";codon2AA[\"CAC\"]=\"H\"\n",
      "    codon2AA[\"GAA\"]=\"E\";codon2AA[\"GAG\"]=\"E\"\n",
      "    codon2AA[\"GAT\"]=\"D\";codon2AA[\"GAC\"]=\"D\"\n",
      "    codon2AA[\"AAA\"]=\"K\";codon2AA[\"AAG\"]=\"K\"\n",
      "    codon2AA[\"CGT\"]=\"R\";codon2AA[\"CGC\"]=\"R\";codon2AA[\"CGA\"]=\"R\";codon2AA[\"CGG\"]=\"R\";codon2AA[\"AGA\"]=\"R\";codon2AA[\"AGG\"]=\"R\"\n",
      "    codon2AA[\"TAA\"]=\"\";codon2AA[\"TAG\"]=\"\";codon2AA[\"TGA\"]=\"\"\n",
      "\n",
      "    aa_seq = \"\"\n",
      "    for i in range(0,len(nt_seq),3):\n",
      "        aa_seq += codon2AA[ nt_seq[i:i+3] ]\n",
      "    return aa_seq"
     ],
     "language": "python",
     "metadata": {},
     "outputs": [],
     "prompt_number": 25
    },
    {
     "cell_type": "markdown",
     "metadata": {},
     "source": [
      "We can do a quick test of the method *translate_seq(nt_seq)* with a small sequence."
     ]
    },
    {
     "cell_type": "code",
     "collapsed": false,
     "input": [
      "translate_seq(\"ATGTTTTATGTACATTAA\")"
     ],
     "language": "python",
     "metadata": {},
     "outputs": [
      {
       "metadata": {},
       "output_type": "pyout",
       "text": [
        "'MFYVH'"
       ]
      }
     ],
     "prompt_number": 28
    },
    {
     "cell_type": "markdown",
     "metadata": {},
     "source": [
      "We can now implement another method that will translate all the sequences of the sequence dictionary returned by our method *read_fasta_file()*. "
     ]
    },
    {
     "cell_type": "code",
     "collapsed": false,
     "input": [
      "def translate_seq_dict (nt_seq_dict):\n",
      "    \"\"\"\n",
      "    Translate a set of nucleic into the corresponding peptidic sequences, \n",
      "    using the canonical code of living organisms.\n",
      "    \n",
      "    Args: \n",
      "        nt_seq_dict -- a dictionary of nucleic sequences (key=name or ID, value=sequence)\n",
      "    Returns:\n",
      "        aa_seq_dict -- a dictionary of peptidic sequence obtained by translating each individual sequence\n",
      "    \"\"\"\n",
      "    aa_seq_dict = dict()\n",
      "    for name,nt_seq in nt_seq_dict.items():\n",
      "        aa_seq_dict[name] = translate_seq(nt_seq)\n",
      "    return(aa_seq_dict)"
     ],
     "language": "python",
     "metadata": {},
     "outputs": [],
     "prompt_number": 29
    },
    {
     "cell_type": "markdown",
     "metadata": {},
     "source": [
      "We can now test the method on a subset of the CDS of *Escherichia coli*. For this, we create a small dictionary with the 2 first items of the sequence dictionary defined above.\n"
     ]
    },
    {
     "cell_type": "code",
     "collapsed": false,
     "input": [
      "coli_cds_subset = {}\n",
      "\n",
      "for key in (sorted(coli_cds.keys())[:2]):\n",
      "    coli_cds_subset[key] = coli_cds[key]\n",
      "\n",
      "translate_seq_dict(coli_cds_subset)"
     ],
     "language": "python",
     "metadata": {},
     "outputs": [
      {
       "metadata": {},
       "output_type": "pyout",
       "text": [
        "{'32115101': 'MVKVYAPASSANMSVGFDVLGAAVTPVDGALLGDVVTVEAAETFSLNNLGRFADKLPSEPRENIVYQCWERFCQELGKQIPVAMTLEKNMPIGSGLGSSACSVVAALMAMNEHCGKPLNDTRLLALMGELEGRISGSIHYDNVAPCFLGGMQLMIEENDIISQQVPGFDEWLWVLAYPGIKVSTAEARAILPAQYRRQDCIAHGRHLAGFIHACYSRQPELAAKLMKDVIAEPYRERLLPGFRQARQAVAEIGAVASGISGSGPTLFALCDKPETAQRVADWLGKNYLQNQEGFVHICRLDTAGARVLEN',\n",
        " '32115099': 'VLKFGGTSVANAERFLRVADILESNARQGQVATVLSAPAKITNHLVAMIEKTISGQDALPNISDAERIFAELLTGLAAAQPGFPLAQLKTFVDQEFAQIKHVLHGISLLGQCPDSINAALICRGEKMSIAIMAGVLEARGHNVTVIDPVEKLLAVGHYLESTVDIAESTRRIAASRIPADHMVLMAGFTAGNEKGELVVLGRNGSDYSAAVLAACLRADCCEIWTDVDGVYTCDPRQVPDARLLKSMSYQEAMELSYFGAKVLHPRTITPIAQFQIPCLIKNTGNPQAPGTLIGASRDEDELPVKGISNLNNMAMFSVSGPGMKGMVGMAARVFAAMSRARISVVLITQSSSEYSISFCVPQSDCVRAERAMQEEFYLELKEGLLEPLAVTERLAIISVVGDGMRTLRGISAKFFAALARANINIVAIAQGSSERSISVVVNNDDATTGVRVTHQMLFNTDQVIEVFVIGVGGVGGALLEQLKRQQSWLKNKHIDLRVCGVANSKALLTNVHGLNLENWQEELAQAKEPFNLGRLIRLVKEYHLLNPVIVDCTSSQAVADQYADFLREGFHVVTPNKKANTSSMDYYHQLRYAAEKSRRKFLYDTNVGAGLPVIENLQNLLNAGDELMKFSGILSGSLSYIFGKLDEGMSFSEATTLAREMGYTEPDPRDDLSGMDVARKLLILARETGRELELADIEIEPVLPAEFNAEGDVAAFMANLSQLDDLFAARVAKARDEGKVLRYVGNIDEDGVCRVKIAEVDGNDPLFKVKNGENALAFYSHYYQPLPLVLRGYGAGNDVTAAGVFADLLRTLSWKLGV'}"
       ]
      }
     ],
     "prompt_number": 40
    },
    {
     "cell_type": "markdown",
     "metadata": {},
     "source": [
      "We will now implement a method that writes a sequence dictionary into a fasta file."
     ]
    },
    {
     "cell_type": "code",
     "collapsed": false,
     "input": [
      "def write_seq(seq_dict, file_name):\n",
      "    \"\"\"\n",
      "    Write a set of sequences in a fasta-formatted file.\n",
      "    \n",
      "    Args:\n",
      "        seq_dict -- a dictionary of sequences (key: ID or name, value=sequence)\n",
      "        file_name -- name of the output file\n",
      "\n",
      "    Returns:\n",
      "        no value\n",
      "    \"\"\"\n",
      "    print (\"Writing \",len(seq_dict),\" sequences in file\", file_name) \n",
      "    outfile = open(file_name,\"w\") ## Open output file in write mode\n",
      "    for name,sequence in seq_dict.items():\n",
      "        outfile.write(\">\" + name +\"\\n\")\n",
      "        outfile.write(sequence+\"\\n\")\n",
      "    outfile.close()"
     ],
     "language": "python",
     "metadata": {},
     "outputs": [],
     "prompt_number": 41
    },
    {
     "cell_type": "code",
     "collapsed": false,
     "input": [
      "coli_peptides = translate_seq_dict(coli_cds)\n",
      "print(\"Number of peptidic sequences\\t\", len(coli_peptides))\n",
      "write_seq(coli_peptides, os.path.join(seq_dir, \"Escherichia_coli_aa.fa\"))"
     ],
     "language": "python",
     "metadata": {},
     "outputs": [
      {
       "output_type": "stream",
       "stream": "Number of peptidic sequences\t 4544\nWriting  4544  sequences in file /Users/jvanheld/jgb53d-bd-prog/data/sequences/Escherichia_coli_aa.fa\n",
       "text": [
        "Number of peptidic sequences\t 4544\n",
        "Writing  4544  sequences in file /Users/jvanheld/jgb53d-bd-prog/data/sequences/Escherichia_coli_aa.fa\n"
       ]
      }
     ],
     "prompt_number": 45
    },
    {
     "cell_type": "code",
     "collapsed": false,
     "input": [
      "plasmodium_peptides = translate_seq_dict(plasmodium_cds)\n",
      "print(\"Number of peptidic sequences\\t\", len(plasmodium_peptides))\n",
      "write_seq(plasmodium_peptides, os.path.join(seq_dir, \"Plasmodium_falciparum_aa.fa\"))"
     ],
     "language": "python",
     "metadata": {},
     "outputs": [
      {
       "output_type": "stream",
       "stream": "Number of peptidic sequences\t 5542\nWriting  5542  sequences in file /Users/jvanheld/jgb53d-bd-prog/data/sequences/Plasmodium_falciparum_aa.fa\n",
       "text": [
        "Number of peptidic sequences\t 5542\n",
        "Writing  5542  sequences in file /Users/jvanheld/jgb53d-bd-prog/data/sequences/Plasmodium_falciparum_aa.fa\n"
       ]
      }
     ],
     "prompt_number": 46
    },
    {
     "cell_type": "code",
     "collapsed": false,
     "input": [
      "def seq_stats(seq_dict):\n",
      "    \"\"\"\n",
      "    Compute summary statistics on a set of sequences (can be nucleic or peptidic).\n",
      "    \n",
      "    Args:\n",
      "        seq_dict -- a dictionary of sequences (key=ID or name, value=sequence)\n",
      "    Returns:\n",
      "        stats -- a dictionary with statistics computed on the sequences\n",
      "    \"\"\"\n",
      "    stats = dict()\n",
      "    stats[\"nb\"] = 0\n",
      "    stats[\"len_sum\"] = 0\n",
      "    stats[\"len_mean\"] = 0\n",
      "    for name,sequence in seq_dict.items():\n",
      "        stats[\"nb\"] += 1\n",
      "        stats[\"len_sum\"] += len(sequence)\n",
      "    if stats[\"nb\"] > 0:\n",
      "        stats[\"len_mean\"] = stats[\"len_sum\"] / stats[\"nb\"]\n",
      "    return stats"
     ],
     "language": "python",
     "metadata": {},
     "outputs": [],
     "prompt_number": 47
    },
    {
     "cell_type": "code",
     "collapsed": false,
     "input": [
      "print( \"E.coli CDS stats\")\n",
      "print(seq_stats(coli_cds))\n",
      "\n",
      "print( \"E.coli Protein stats\")\n",
      "print(seq_stats(coli_peptides))\n",
      "\n",
      "print( \"P.falciparum CDS stats\")\n",
      "print(seq_stats(plasmodium_cds))\n",
      "\n",
      "print( \"P.falcimarum Protein stats\")\n",
      "print(seq_stats(plasmodium_peptides))"
     ],
     "language": "python",
     "metadata": {},
     "outputs": [
      {
       "output_type": "stream",
       "stream": "stdout",
       "text": [
        "E.coli CDS stats\n",
        "{'len_sum': 4075029, 'len_mean': 895.8076500329743, 'nb': 4549}\n",
        "E.coli Protein stats\n",
        "{'len_sum': 1353791, 'len_mean': 297.6018905253902, 'nb': 4549}\n",
        "P.falciparum CDS stats\n",
        "{'len_sum': 12583182, 'len_mean': 2270.512811259473, 'nb': 5542}\n",
        "P.falcimarum Protein stats\n",
        "{'len_sum': 4188154, 'len_mean': 755.7116564417178, 'nb': 5542}\n"
       ]
      }
     ],
     "prompt_number": 56
    },
    {
     "cell_type": "heading",
     "level": 2,
     "metadata": {},
     "source": [
      "Computation of nucleotide frequencies"
     ]
    },
    {
     "cell_type": "code",
     "collapsed": false,
     "input": [
      "# -*- coding: utf8 -*-\n",
      "def nt_composition(codingGenes):\n",
      "    nbA, nbT, nbG, nbC, seq_len = 0, 0, 0, 0, 0 ## Initialize the counters\n",
      "    for gene,sequence in codingGenes.items():\n",
      "        nbA += sequence.count(\"A\") ## Increment the counter for A\n",
      "        nbT += sequence.count(\"G\") ## Increment the counter for C\n",
      "        nbG += sequence.count(\"G\") ## Increment the counter for G\n",
      "        nbC += sequence.count(\"T\") ## Increment the counter for T\n",
      "        seq_len += len(sequence)\n",
      "        \n",
      "    tot = nbA + nbT + nbG + nbC\n",
      "\n",
      "    if( tot == seq_len ):\n",
      "        print(\"le compte est bon!\")\n",
      "    else:\n",
      "        print(\"Probl\u00e8me! Le total (\",tot,\") ne correspond pas \u00e0 la somme des longueurs de la sequence (\",seq_len,\")\")\n",
      "    return {\"A\" : nbA/tot, \"T\" : nbT/tot, \"G\" : nbG/tot, \"C\" : nbC/tot}\n",
      "\n",
      "plasmoCompoNT = nt_composition(plasmodium_cds)\n",
      "print(\"Plasmo compo \", plasmoCompoNT)\n",
      "\n",
      "ecoliCompoNT = nt_composition(coli_cds)\n",
      "print(\"E.coli compo \", ecoliCompoNT)"
     ],
     "language": "python",
     "metadata": {},
     "outputs": [
      {
       "output_type": "stream",
       "stream": "Probl\u00e8me! Le total ( 13110179 ) ne correspond pas \u00e0 la somme des longueurs de la sequence ( 12583182 )\nPlasmo compo  {'T': 0.13419107397389463, 'A': 0.43315487912102496, 'C': 0.29846297293118573, 'G': 0.13419107397389463}\nProbl\u00e8me! Le total (",
       "text": [
        "Probl\u00e8me! Le total ( 13110179 ) ne correspond pas \u00e0 la somme des longueurs de la sequence ( 12583182 )\n",
        "Plasmo compo  {'T': 0.13419107397389463, 'A': 0.43315487912102496, 'C': 0.29846297293118573, 'G': 0.13419107397389463}\n",
        "Probl\u00e8me! Le total ("
       ]
      },
      {
       "output_type": "stream",
       "stream": " 4182337 ) ne correspond pas \u00e0 la somme des longueurs de la sequence ( 4067802 )\nE.coli compo  {'T': 0.2658800570111878, 'A': 0.2341853370495969, 'C': 0.23405454892802757, 'G': 0.2658800570111878}\n",
       "text": [
        " 4182337 ) ne correspond pas \u00e0 la somme des longueurs de la sequence ( 4067802 )\n",
        "E.coli compo  {'T': 0.2658800570111878, 'A': 0.2341853370495969, 'C': 0.23405454892802757, 'G': 0.2658800570111878}\n"
       ]
      }
     ],
     "prompt_number": 48
    },
    {
     "cell_type": "code",
     "collapsed": false,
     "input": [
      "import random\n",
      "basesNT = (\"A\", \"T\", \"G\", \"C\")\n",
      "def seqAlea(compoNT, length):\n",
      "    retSeq = \"\"\n",
      "    for i in range(length):\n",
      "        r = random.random()\n",
      "        for base in basesNT:\n",
      "            if r < compoNT[base] :\n",
      "                retSeq += base\n",
      "                break;\n",
      "            else:\n",
      "                 r -= compoNT[base]\n",
      "    return retSeq"
     ],
     "language": "python",
     "metadata": {},
     "outputs": [],
     "prompt_number": 49
    },
    {
     "cell_type": "code",
     "collapsed": false,
     "input": [
      "print(\"Target composition\", plasmoCompoNT)\n",
      "\n",
      "rand_seq = dict() ## Instantiate a dictionary to compute random sequences\n",
      "rand_seq[1] = seqAlea(plasmoCompoNT,1000)\n",
      "print(rand_seq)\n",
      "\n",
      "## Check that the nucleotide composition of the random seq fits our expectation\n",
      "print(\"Random seq compos\", nt_composition(rand_seq))"
     ],
     "language": "python",
     "metadata": {},
     "outputs": [
      {
       "output_type": "stream",
       "stream": "Target composition {'T': 0.13419107397389463, 'A': 0.43315487912102496, 'C': 0.29846297293118573, 'G': 0.13419107397389463}\n{1: 'TACCTCCCCAGCGAACAAAACTACGAAGGAACATGAACGGAACTCAACAAATACACGCAACCCACCAAAATATTCAGCTACTCCAGACATGGGGACAAATTCAACCAGGACTTCAAACATCTGGGGACCAACCCCAACAAAAATAAACTGATCCGCCACTAAAGAGAACTTTCATACACAAAAAATAGCCAATCTCCCACACCACGCAAACACCCTTCTTAAAGATTGAACCCGGGCCTAATCCCACACAAACGGACGAAAAAATAAATACAAAAGAAAAAAAGAAGACAGATTACCAATAAGCCAACTTAGACCAGAACACAGGATACAAGTGATACGCCCGAAATAATTCTCAAACATTAGCCCAAGCACAGCTAACCAGAGATAAAACGCAACCTCCCACATAAAACGGCTAGACTTATCTGACAACCAAAAAATAGTATAACCGGGTAAAAACAATCCATCCCAAGAAACACTACTTGCAGAAAACCTCAGCCGCACTCCAATGACTAACCAGCCAAACCTCCATCAAGACGGAAGCCAGGATTCCGATACACTCCACTACAACTCCCAAAGAAAACCAAAGCACTACAAAAGCCACAAACCAATTCATAAACAATTCGATCTCACTCAAACACCCTTTAAAACAACAACACCTCCGAACAGCGAGGTACACCTACAAAAAATCAATAAACATACACCGCAACCCACGCTAAACCATAGTCCGGTTCAGAGCGTCAAAACCCTACAAGAACACTCAAAACGGTCCTCTCCAAAAGCAAAAACCCGAAGATAACACGATACGCAATAAAGACAACAAATGGAATAACAACCGGGCCTACGTTTCCACTATAAAATAACGATGCCCGCGATGCCGAAACCAAGCAATGCGAACTCCCATCGAGCAAATCCAAAGCACCCACTAGGCCACCCTCAAAATTAACACATCCAGTACCACATGTACCAAGCCGCATGACAAACATCTTAGGAAGGAAACCCC'}\nProbl\u00e8me! Le total ( 828 ) ne correspond pas \u00e0 la somme des longueurs de la sequence ( 1000 )\nRandom seq compos {'T': 0.15821256038647344, 'A': 0.5120772946859904, 'C': 0.17149758454106281, 'G': 0.15821256038647344}\n",
       "text": [
        "Target composition {'T': 0.13419107397389463, 'A': 0.43315487912102496, 'C': 0.29846297293118573, 'G': 0.13419107397389463}\n",
        "{1: 'TACCTCCCCAGCGAACAAAACTACGAAGGAACATGAACGGAACTCAACAAATACACGCAACCCACCAAAATATTCAGCTACTCCAGACATGGGGACAAATTCAACCAGGACTTCAAACATCTGGGGACCAACCCCAACAAAAATAAACTGATCCGCCACTAAAGAGAACTTTCATACACAAAAAATAGCCAATCTCCCACACCACGCAAACACCCTTCTTAAAGATTGAACCCGGGCCTAATCCCACACAAACGGACGAAAAAATAAATACAAAAGAAAAAAAGAAGACAGATTACCAATAAGCCAACTTAGACCAGAACACAGGATACAAGTGATACGCCCGAAATAATTCTCAAACATTAGCCCAAGCACAGCTAACCAGAGATAAAACGCAACCTCCCACATAAAACGGCTAGACTTATCTGACAACCAAAAAATAGTATAACCGGGTAAAAACAATCCATCCCAAGAAACACTACTTGCAGAAAACCTCAGCCGCACTCCAATGACTAACCAGCCAAACCTCCATCAAGACGGAAGCCAGGATTCCGATACACTCCACTACAACTCCCAAAGAAAACCAAAGCACTACAAAAGCCACAAACCAATTCATAAACAATTCGATCTCACTCAAACACCCTTTAAAACAACAACACCTCCGAACAGCGAGGTACACCTACAAAAAATCAATAAACATACACCGCAACCCACGCTAAACCATAGTCCGGTTCAGAGCGTCAAAACCCTACAAGAACACTCAAAACGGTCCTCTCCAAAAGCAAAAACCCGAAGATAACACGATACGCAATAAAGACAACAAATGGAATAACAACCGGGCCTACGTTTCCACTATAAAATAACGATGCCCGCGATGCCGAAACCAAGCAATGCGAACTCCCATCGAGCAAATCCAAAGCACCCACTAGGCCACCCTCAAAATTAACACATCCAGTACCACATGTACCAAGCCGCATGACAAACATCTTAGGAAGGAAACCCC'}\n",
        "Probl\u00e8me! Le total ( 828 ) ne correspond pas \u00e0 la somme des longueurs de la sequence ( 1000 )\n",
        "Random seq compos {'T': 0.15821256038647344, 'A': 0.5120772946859904, 'C': 0.17149758454106281, 'G': 0.15821256038647344}\n"
       ]
      }
     ],
     "prompt_number": 50
    },
    {
     "cell_type": "heading",
     "level": 1,
     "metadata": {},
     "source": [
      "Tests r\u00e9alis\u00e9s en s\u00e9ance avec le groupe 2"
     ]
    },
    {
     "cell_type": "code",
     "collapsed": false,
     "input": [
      "seq = \"ATTGCGGG\"\n",
      "print(seq)"
     ],
     "language": "python",
     "metadata": {},
     "outputs": [
      {
       "output_type": "stream",
       "stream": "ATTGCGGG\n",
       "text": [
        "ATTGCGGG\n"
       ]
      }
     ],
     "prompt_number": 56
    },
    {
     "cell_type": "code",
     "collapsed": false,
     "input": [
      "## Instantiate an empty sequence for the reverse\n",
      "rev = \"\"\n",
      "print(\"Original sequence = \", seq)\n",
      "for i in range(len(seq)):\n",
      "    rev = rev + seq[-1-i]\n",
      "    print(i, seq[-1-i], rev)\n",
      "print(\"Reverse sequence = \", rev)"
     ],
     "language": "python",
     "metadata": {},
     "outputs": [
      {
       "output_type": "stream",
       "stream": "Original sequence =  ATTGCGGG\n0 G G\n1 G GG\n2 G GGG\n3 C GGGC\n4 G GGGCG\n5 T GGGCGT\n6 T GGGCGTT\n7 A GGGCGTTA\nReverse sequence =  GGGCGTTA\n",
       "text": [
        "Original sequence =  ATTGCGGG\n",
        "0 G G\n",
        "1 G GG\n",
        "2 G GGG\n",
        "3 C GGGC\n",
        "4 G GGGCG\n",
        "5 T GGGCGT\n",
        "6 T GGGCGTT\n",
        "7 A GGGCGTTA\n",
        "Reverse sequence =  GGGCGTTA\n"
       ]
      }
     ],
     "prompt_number": 57
    },
    {
     "cell_type": "code",
     "collapsed": false,
     "input": [
      "## Reminder about slice handling\n",
      "## Rappel: manipulation de tranches dans des cha\u00eenes de caract\u00e8res\n",
      "print(seq)\n",
      "print(seq[3:5])"
     ],
     "language": "python",
     "metadata": {},
     "outputs": [
      {
       "output_type": "stream",
       "stream": "ATTGCGGG\nGC\n",
       "text": [
        "ATTGCGGG\n",
        "GC\n"
       ]
      }
     ],
     "prompt_number": 58
    },
    {
     "cell_type": "code",
     "collapsed": false,
     "input": [
      "print(seq[0:6:2])"
     ],
     "language": "python",
     "metadata": {},
     "outputs": [
      {
       "output_type": "stream",
       "stream": "ATC\n",
       "text": [
        "ATC\n"
       ]
      }
     ],
     "prompt_number": 59
    },
    {
     "cell_type": "code",
     "collapsed": false,
     "input": [
      "print(seq[0::2])"
     ],
     "language": "python",
     "metadata": {},
     "outputs": [
      {
       "output_type": "stream",
       "stream": "ATCG\n",
       "text": [
        "ATCG\n"
       ]
      }
     ],
     "prompt_number": 60
    },
    {
     "cell_type": "code",
     "collapsed": false,
     "input": [
      "print(seq[::2])"
     ],
     "language": "python",
     "metadata": {},
     "outputs": [
      {
       "output_type": "stream",
       "stream": "ATCG\n",
       "text": [
        "ATCG\n"
       ]
      }
     ],
     "prompt_number": 61
    },
    {
     "cell_type": "code",
     "collapsed": false,
     "input": [
      "seq[::-1]"
     ],
     "language": "python",
     "metadata": {},
     "outputs": [
      {
       "metadata": {},
       "output_type": "pyout",
       "text": [
        "'GGGCGTTA'"
       ]
      }
     ],
     "prompt_number": 62
    },
    {
     "cell_type": "code",
     "collapsed": false,
     "input": [
      "seq[::]"
     ],
     "language": "python",
     "metadata": {},
     "outputs": [
      {
       "metadata": {},
       "output_type": "pyout",
       "prompt_number": 98,
       "text": [
        "'ATTGCGGG'"
       ]
      }
     ],
     "prompt_number": 98
    },
    {
     "cell_type": "heading",
     "level": 2,
     "metadata": {},
     "source": [
      "Une m\u00e9thode particuli\u00e8rement lourde pour calculer le compl\u00e9ment"
     ]
    },
    {
     "cell_type": "code",
     "collapsed": false,
     "input": [
      "cpl = \"\" ## initialiser la variable qui contiendra la s\u00e9q compl\u00e9mentaire\n",
      "\n",
      "cpl_dict = {\"A\":\"T\", \"T\":\"A\", \"G\":\"C\", \"C\":\"G\"}\n",
      "print(cpl_dict)\n",
      "\n",
      "for i in range(len(seq)):\n",
      "    nt = seq[i]\n",
      "    cpl_nt = cpl_dict[nt]\n",
      "    cpl = cpl + cpl_nt\n",
      "    print(i, nt, cpl, cpl_nt)"
     ],
     "language": "python",
     "metadata": {},
     "outputs": [
      {
       "output_type": "stream",
       "stream": "{'T': 'A', 'A': 'T', 'C': 'G', 'G': 'C'}\n0 A T T\n1 T TA A\n2 T TAA A\n3 G TAAC C\n4 C TAACG G\n5 G TAACGC C\n6 G TAACGCC C\n7 G TAACGCCC C\n",
       "text": [
        "{'T': 'A', 'A': 'T', 'C': 'G', 'G': 'C'}\n",
        "0 A T T\n",
        "1 T TA A\n",
        "2 T TAA A\n",
        "3 G TAAC C\n",
        "4 C TAACG G\n",
        "5 G TAACGC C\n",
        "6 G TAACGCC C\n",
        "7 G TAACGCCC C\n"
       ]
      }
     ],
     "prompt_number": 63
    },
    {
     "cell_type": "code",
     "collapsed": false,
     "input": [
      "seq = \"ATTGCGGG\"\n",
      "print(seq)\n",
      "\n",
      "cpl = \"\" ## initialiser la variable qui contiendra la s\u00e9q compl\u00e9mentaire\n",
      "\n",
      "cpl_dict = {\"A\":\"T\", \"T\":\"A\", \"G\":\"C\", \"C\":\"G\"}\n",
      "print(cpl_dict)\n",
      "\n",
      "## In Python, strings can directly be iterated\n",
      "for nt in seq:    \n",
      "    cpl += cpl_dict[nt]\n",
      "    print(nt, cpl)\n",
      "print(\"Original sequence: \", seq)\n",
      "print(\"Complementary seq: \",cpl)"
     ],
     "language": "python",
     "metadata": {},
     "outputs": [
      {
       "output_type": "stream",
       "stream": "ATTGCGGG\n{'T': 'A', 'A': 'T', 'C': 'G', 'G': 'C'}\nA T\nT TA\nT TAA\nG TAAC\nC TAACG\nG TAACGC\nG TAACGCC\nG TAACGCCC\nOriginal sequence:  ATTGCGGG\nComplementary seq:  TAACGCCC\n",
       "text": [
        "ATTGCGGG\n",
        "{'T': 'A', 'A': 'T', 'C': 'G', 'G': 'C'}\n",
        "A T\n",
        "T TA\n",
        "T TAA\n",
        "G TAAC\n",
        "C TAACG\n",
        "G TAACGC\n",
        "G TAACGCC\n",
        "G TAACGCCC\n",
        "Original sequence:  ATTGCGGG\n",
        "Complementary seq:  TAACGCCC\n"
       ]
      }
     ],
     "prompt_number": 65
    }
   ],
   "metadata": {}
  }
 ]
}