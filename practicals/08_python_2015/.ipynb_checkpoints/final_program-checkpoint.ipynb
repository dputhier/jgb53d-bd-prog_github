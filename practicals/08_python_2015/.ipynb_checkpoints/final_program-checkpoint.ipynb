{
 "metadata": {
  "name": "",
  "signature": "sha256:b6cb4f56e16491ea67c7ce83eec5128dd51850e13e24b885010f5d04cb5a23da"
 },
 "nbformat": 3,
 "nbformat_minor": 0,
 "worksheets": [
  {
   "cells": [
    {
     "cell_type": "markdown",
     "metadata": {},
     "source": [
      "## Objectifs\n",
      "\n",
      "L'objectif est ici de cr\u00e9er un petit programme (my_toolkit) qui permettra d'appeler les diff\u00e9rents sous programmes que nous avons cr\u00e9\u00e9s:\n",
      "    \n",
      "- head\n",
      "- cut\n",
      "- count\n",
      "- nb_exons\n",
      "- tx_len\n",
      "    \n",
      "Ce programme comportera des arguments qui pourront \u00eatre positionn\u00e9s via un appelle en ligne commande. Quelques exemples sont propos\u00e9s ci-dessous afin de pr\u00e9ciser notre objectif:"
     ]
    },
    {
     "cell_type": "raw",
     "metadata": {},
     "source": [
      "<pre>\n",
      "user@machine: python3 my_toolkit.py -p head -i ../data/hg38_5k.gtf -n 30 # lancer la commande head et visualiser 30 lignes.\n",
      "user@machine: python3 my_toolkit.py -p cut -i ../data/hg38_5k.gtf  -c 3  # lancer la commande cut et visualiser la colonne  3.\n",
      "user@machine: python3 my_toolkit.py -p nb_exons -i ../data/hg38_5k.gtf   # Renvoyer le nombre d'exons de chaque transcrit.\n",
      "...\n",
      "</pre>"
     ]
    },
    {
     "cell_type": "markdown",
     "metadata": {},
     "source": [
      "##Ent\u00eate du programme\n",
      "\n",
      "R\u00e9cup\u00e9rez le codes des diff\u00e9rents programmes que nous avons d\u00e9velopp\u00e9s \u00e0 ce stade (ces programmes sont tous cod\u00e9s sous la forme de fonctions comme vu dans le tutoriel pr\u00e9c\u00e9dant). T\u00e9l\u00e9chargez l'archive [blabla]() et d\u00e9compressez la dans votre r\u00e9pertoire \"home\". Dans le sous dossier **progs**, cr\u00e9ez un fichier **my_tools.py**. Ce fichier contiendra le programme principal qui appellera les autres fonctions d\u00e9velopp\u00e9e. **Le code suivant de ce tutoriel devra \u00eatre \u00e9crit dans ce fichier**. \n",
      "\n",
      "Comme \u00e0 l'habitude nous allons commencer notre programme (i) en d\u00e9clarant l'utilisation \u00e9ventuelle de caract\u00e8res accentu\u00e9s et (ii) en d\u00e9clarant dans une docstring l'objectif de ce programme:"
     ]
    },
    {
     "cell_type": "raw",
     "metadata": {},
     "source": [
      "# -*- coding: utf8 -*-\n",
      " \n",
      "\"\"\"\n",
      "    Main program with an argument parser that can be used to start the written subprograms (head, cut, count, tx_len,...).\n",
      "\"\"\""
     ]
    },
    {
     "cell_type": "markdown",
     "metadata": {},
     "source": [
      "## Importer les diff\u00e9rents modules d\u00e9velopp\u00e9 dans notre programme principal\n",
      "\n",
      "Notre programme principal (**my_toolkit.py**) appellera les diff\u00e9rents modules (*i.e* fichiers) que nous avons cr\u00e9\u00e9. Dans ces modules on pourra alors appel\u00e9 les fonctions correspondantes (*cf* suite)."
     ]
    },
    {
     "cell_type": "raw",
     "metadata": {},
     "source": [
      "import head\n",
      "import cut\n",
      "import count\n",
      "import nb_exons\n",
      "import tx_len"
     ]
    },
    {
     "cell_type": "markdown",
     "metadata": {},
     "source": [
      "## L'objet argparse: cr\u00e9ation et analyse d'arguments en ligne de commande \n",
      "\n",
      "Nous souhaiterions que notre programme soit capable d'analyser des **arguments pass\u00e9 en ligne de commande**. Cette op\u00e9ration est propos\u00e9e par le **package argparse** de Python. Nous devons donc l'importer dans notre programme afin de pouvoir utiliser les outils propos\u00e9s:\n"
     ]
    },
    {
     "cell_type": "code",
     "collapsed": false,
     "input": [
      "import argparse"
     ],
     "language": "python",
     "metadata": {},
     "outputs": [],
     "prompt_number": 13
    },
    {
     "cell_type": "markdown",
     "metadata": {},
     "source": [
      "### Cr\u00e9ation d'un objet argparse\n",
      "\n",
      "Afin de d\u00e9clarer de nouveaux arguments qui seront propos\u00e9s \u00e0 l'utilisateur lorsqu'il souhaitera lancer le programme en ligne de commande, on doit tout d'abord cr\u00e9\u00e9 un nouvel object de type (classe) ArgumentParser. Cet objet contient par ailleurs une description du programme qui appara\u00eetra lorsque l'utilisateur le demandera (argument -h)."
     ]
    },
    {
     "cell_type": "code",
     "collapsed": false,
     "input": [
      "# Dans le module argparse, on appelle la fonction ArgumentParser qui renvoie un object de type \n",
      "# ArgumentParser. On d\u00e9crit, via l'argument 'description', l'objectif du programme. \n",
      "parser = argparse.ArgumentParser(description='A set of tools written during the informatic classes. These tools takes a gtf file as input and perform various tasks.')\n",
      "\n",
      "# L'instruction suivante permet de demander \n",
      "# le type (la classe) de l'objet \n",
      "# et ne sera pas incluse dans le code final.\n",
      "print(type(parser))"
     ],
     "language": "python",
     "metadata": {},
     "outputs": [
      {
       "output_type": "stream",
       "stream": "stdout",
       "text": [
        "<class 'argparse.ArgumentParser'>\n"
       ]
      }
     ],
     "prompt_number": 14
    },
    {
     "cell_type": "markdown",
     "metadata": {},
     "source": [
      "### D\u00e9claration des arguments\n",
      "\n",
      "Afin de d\u00e9clarer de nouveaux arguments accessibles par le programme, il suffit d'utiliser la m\u00e9thode **add_argument()** sur l'objet de classe ArgumentParser (ici **parser**). Par exemple, \u00e9tant donn\u00e9 que tous nos programmes vont devoir lire un fichier, nous allons cr\u00e9\u00e9 un argument **-i** (pour inputfile). On pourrait cependant nommer diff\u00e9remment cet argument (*e.g* -f pour filename ou -g pour gtf...). Il s'agit ici d'un choix qui vise \u00e0 donner \u00e0 rendre le nom de l'argument explicite. Le code doit donc contenir:"
     ]
    },
    {
     "cell_type": "raw",
     "metadata": {},
     "source": [
      "parser.add_argument('-i',  # La version courte de l'argument.\n",
      "                    '--inputfile',  # La version longue de l'argument.\n",
      "                    type=str,       # Le type de l'argument.\n",
      "                    default=None,   # La valeur par d\u00e9faut (aucune).\n",
      "                    help=\"The input file name.\") # L'aide pour cet argument."
     ]
    },
    {
     "cell_type": "markdown",
     "metadata": {},
     "source": [
      "De la m\u00eame mani\u00e8re nous allons cr\u00e9\u00e9 un argument (**-p** pour **program**) qui contr\u00f4lera quel sous programme doit \u00eatre ex\u00e9cut\u00e9:"
     ]
    },
    {
     "cell_type": "raw",
     "metadata": {},
     "source": [
      "parser.add_argument('-p',           # La version courte de l'argument.\n",
      "                    '--program',    # La version longue de l'argument.\n",
      "                    type=str,       # Le type de l'argument.\n",
      "                    choices=[\"cut\", \"head\", \"count\", \"tx_len\", \"nb_exons\"], # Les valeurs que l'argument peut prendre.\n",
      "                    default=None,   # La valeur par d\u00e9faut (aucune).\n",
      "                    help=\"The subprogram to call.\") # L'aide pour cet argument."
     ]
    },
    {
     "cell_type": "markdown",
     "metadata": {},
     "source": [
      "### Exposer les arguments \u00e0 l'utilisateur\n",
      "\n",
      "A ce stade, lorsque le programme sera lanc\u00e9, le parser d'arguments sera cr\u00e9\u00e9 et contiendra la description des arguments. Afin que ces arguments soient expos\u00e9 \u00e0 l'utilisateur, nous devons utiliser la m\u00e9thode **parse_args()**.\n"
     ]
    },
    {
     "cell_type": "raw",
     "metadata": {},
     "source": [
      "args = parser.parse_args()"
     ]
    },
    {
     "cell_type": "code",
     "collapsed": false,
     "input": [
      "Maintenant, nous pouvons lancer le programme dans un terminal (attention pas dans ipython3)."
     ],
     "language": "python",
     "metadata": {},
     "outputs": [],
     "prompt_number": 11
    },
    {
     "cell_type": "raw",
     "metadata": {},
     "source": [
      "user@machine$   python3 my_tools.py # il ne se passe rien\n",
      "user@machine$   python3 my_tools.py -h # on invoque l'argument par d\u00e9faut qui permet d'afficher les arguments"
     ]
    },
    {
     "cell_type": "raw",
     "metadata": {},
     "source": [
      "# les arguments du programme apparaissent.\n",
      "\n",
      "usage: my_tools.py [-h] [-i INPUTFILE] [-p {cut,head,count,tx_len,nb_exons}]\n",
      "\n",
      "A set of tools written during the informatic classes. These tools takes a gtf\n",
      "file as input and perform various tasks.\n",
      "\n",
      "optional arguments:\n",
      "  -h, --help            show this help message and exit\n",
      "  -i INPUTFILE, --inputfile INPUTFILE\n",
      "                        The input file name.\n",
      "  -p {cut,head,count,tx_len,nb_exons}, --program {cut,head,count,tx_len,nb_exons}\n",
      "                        The subprogram to call."
     ]
    },
    {
     "cell_type": "code",
     "collapsed": false,
     "input": [
      "Ajoutez  les deux arguments suivant:\n",
      "\n",
      "- -n, --nbline : contr\u00f4lera le fonctionnement du sous-programme head.\n",
      "- -c, --column : contr\u00f4lera le fonctionnement du sous-programme cut.\n",
      " \n",
      "    "
     ],
     "language": "python",
     "metadata": {},
     "outputs": []
    }
   ],
   "metadata": {}
  }
 ]
}