{
 "metadata": {
  "name": "",
  "signature": "sha256:9c8d620ce62e19eb3462ca1cb16085363675c4eec40b3899852dfcb0399fccac"
 },
 "nbformat": 3,
 "nbformat_minor": 0,
 "worksheets": [
  {
   "cells": [
    {
     "cell_type": "heading",
     "level": 1,
     "metadata": {},
     "source": [
      "Travaux pratiques Python - statistiques et graphiques"
     ]
    },
    {
     "cell_type": "code",
     "collapsed": false,
     "input": [
      "import os ## Operating system library\n",
      "\n",
      "## Get home directory\n",
      "home_dir = os.path.expanduser('~')\n",
      "print(\"Home directory = \" + home_dir)\n",
      "\n",
      "## Specify the data directory\n",
      "course_dir = os.path.join(home_dir, \"jgb53d-bd-prog\")\n",
      "cds_dir = os.path.join(course_dir, \"data\", \"gene_tables\")\n",
      "print(\"Data directory = \" + cds_dir)\n",
      "\n",
      "## List all files in the data directory\n",
      "data_files = os.listdir(cds_dir)\n",
      "print(data_files)\n",
      "\n",
      "## Specify the full path of the organism-specific CDS files\n",
      "ecoli_cds_file = os.path.join(cds_dir,  \"Escherichia_coli_K_12_substr__MG1655_uid57779_cds.tab\")\n",
      "print(\"E.coli CDS file : \" + ecoli_cds_file)\n",
      "plasmodium_cds_file = os.path.join(cds_dir,  \"Plasmodium_falciparum_cds.tab\")\n",
      "print(\"P.falciparum CDS file: \" + plasmodium_cds_file)"
     ],
     "language": "python",
     "metadata": {},
     "outputs": [
      {
       "output_type": "stream",
       "stream": "stdout",
       "text": [
        "Home directory = /Users/jvanheld\n",
        "Data directory = /Users/jvanheld/jgb53d-bd-prog/data/gene_tables\n",
        "['Escherichia_coli_K_12_substr__MG1655_uid57779_cds.tab', 'Plasmodium_falciparum_cds.tab']\n",
        "E.coli CDS file : /Users/jvanheld/jgb53d-bd-prog/data/gene_tables/Escherichia_coli_K_12_substr__MG1655_uid57779_cds.tab\n",
        "P.falciparum CDS file: /Users/jvanheld/jgb53d-bd-prog/data/gene_tables/Plasmodium_falciparum_cds.tab\n"
       ]
      }
     ],
     "prompt_number": 1
    },
    {
     "cell_type": "heading",
     "level": 2,
     "metadata": {},
     "source": [
      "Lecture des coordonn\u00e9es \u00e0 partir d'un fichier tabulaire"
     ]
    },
    {
     "cell_type": "markdown",
     "metadata": {},
     "source": [
      "Ecrivez une m\u00e9thode qui prend en entr\u00e9e un nom de fichier et un num\u00e9ro de colonne, lit le contenu de ce fichier et retourne une liste contenant les valeurs(suppos\u00e9es enti\u00e8res) de la colonne indiqu\u00e9e. \n",
      "\n",
      "Note: La premi\u00e8re ligne du fichier ne contient pas de donn\u00e9es, il s'agit d'une ligne d'en-t\u00eate, qui indique le contenu de chaque colonne. Vous pouvez simplement passercette ligne.\n"
     ]
    },
    {
     "cell_type": "code",
     "collapsed": false,
     "input": [
      "def read_column(file_name, column):\n",
      "    \"\"\"\n",
      "    Extract the content of a specified column from a tab-delimited file.\n",
      "    \n",
      "    Attributes:\n",
      "        file_name -- name of a tab-delimited text file\n",
      "        column -- number of the column (first column is 1)\n",
      "        \n",
      "    Returns:\n",
      "        values -- a list of integer values parsed from the specified column of the input file\n",
      "    \"\"\"\n",
      "    ## Check that the column attribute is an integer (column number)\n",
      "    if (type(column) != int):\n",
      "        raise Exception(\"read_column() error: invalid column number: should be an integer\")\n",
      "\n",
      "    ## Check that the column attribute is at least 1\n",
      "    if (column < 1):\n",
      "        raise Exception(\"read_column() error: invalid column number: should be >= 1\")\n",
      "\n",
      "    ## Check that file name is not an empty string\n",
      "    if (file_name == \"\"):\n",
      "        raise Exception (\"read_column() error: file name cannot be empty\")\n",
      "\n",
      "    ## Open the file in read mode\n",
      "    file = open(file_name, \"r\")\n",
      "    \n",
      "    l = 0 ## Initialize a line counter\n",
      "    values = [] ## Create a list to store the values\n",
      "    column_header = \"\" ## Header of the selected column\n",
      "    for line in file:\n",
      "        l += 1\n",
      "        fields = line.split(sep=\"\\t\") ## Split the line by tab\n",
      "        if (l == 1): \n",
      "            ## Report the column content from the header line (for information)\n",
      "            column_header = fields[column-1] \n",
      "        else: ## parse all subsequent lines\n",
      "            value = int(fields[column-1])\n",
      "            values.append(value)\n",
      "    print(\"Extracted \" + str(len(values)) + \" values from column \" + str(column) + \"\\t\" + column_header)        \n",
      "    return(values)"
     ],
     "language": "python",
     "metadata": {},
     "outputs": [],
     "prompt_number": 2
    },
    {
     "cell_type": "markdown",
     "metadata": {},
     "source": [
      "Utilisez cette m\u00e9thode pour extraire les positions de d\u00e9but et de fin des CDS d'Escherichia coli, que vous stockerez dans des listes d\u00e9nomm\u00e9es start_positions et end_positions, respectivement."
     ]
    },
    {
     "cell_type": "code",
     "collapsed": false,
     "input": [
      "start_positions = read_column(ecoli_cds_file, 2)\n",
      "end_positions = read_column(ecoli_cds_file, 3)"
     ],
     "language": "python",
     "metadata": {},
     "outputs": [
      {
       "output_type": "stream",
       "stream": "stdout",
       "text": [
        "Extracted 4319 values from column 2\tstart_pos\n",
        "Extracted 4319 values from column 3\tend_pos\n"
       ]
      }
     ],
     "prompt_number": 3
    },
    {
     "cell_type": "heading",
     "level": 2,
     "metadata": {},
     "source": [
      "Statistics on gene lengths"
     ]
    },
    {
     "cell_type": "code",
     "collapsed": false,
     "input": [
      "cds_lengths = [] ## Initialize and empty list to store gene lengths\n",
      "for i in range(len(start_positions)):\n",
      "    cds_lengths.append(end_positions[i] - start_positions[i] +1)\n",
      "\n",
      "## Check the 5 first gene length values\n",
      "print (cds_lengths[:5])\n",
      "\n",
      "## Compute the min and max values step by step\n",
      "n = len(cds_lengths) ## Number of CDS is the length of the list\n",
      "min_len = cds_lengths[0] ## Initialize the minimal length with the first gene\n",
      "max_len = cds_lengths[0] ## Initialize the maximal length with the first gene\n",
      "sum_len = 0\n",
      "mean_len = 0\n",
      "for len in cds_lengths:\n",
      "    if len > max_len: ## Update max if required\n",
      "        max_len = len\n",
      "    if len < min_len: ## Update min if required\n",
      "        min_len = len\n",
      "    sum_len += len ## Update length sum\n",
      "mean_len = sum_len / n ## Compute the mean\n",
      "\n",
      "## Print the result\n",
      "print (\"Number of CDS\\t\" + str(n))\n",
      "print (\"Min length\\t\" + str(min_len))\n",
      "print (\"Max length\\t\" + str(max_len))\n",
      "print (\"Mean length\\t\" + str(mean_len))"
     ],
     "language": "python",
     "metadata": {},
     "outputs": [
      {
       "output_type": "stream",
       "stream": "stdout",
       "text": [
        "[66, 2463, 933, 1287, 297]\n",
        "Number of CDS\t4319\n",
        "Min length\t45\n",
        "Max length\t21837\n",
        "Mean length\t956.6899745311415\n"
       ]
      }
     ],
     "prompt_number": 4
    },
    {
     "cell_type": "code",
     "collapsed": false,
     "input": [
      "import statistics\n",
      "\n",
      "## Print the result\n",
      "print (\"Number of CDS\\t\" + str(n))\n",
      "print (\"Min length\\t\" + str(min(cds_lengths)))\n",
      "print (\"Max length\\t\" + str(max(cds_lengths)))\n",
      "print (\"Mean length\\t\" + str(statistics.mean(cds_lengths)))\n",
      "print (\"Median length\\t\" + str(statistics.median(cds_lengths)))"
     ],
     "language": "python",
     "metadata": {},
     "outputs": [
      {
       "output_type": "stream",
       "stream": "stdout",
       "text": [
        "Number of CDS\t4319\n",
        "Min length\t45\n",
        "Max length\t21837\n",
        "Mean length\t956.6899745311415\n",
        "Median length\t837\n"
       ]
      }
     ],
     "prompt_number": 5
    },
    {
     "cell_type": "code",
     "collapsed": false,
     "input": [],
     "language": "python",
     "metadata": {},
     "outputs": [],
     "prompt_number": 5
    },
    {
     "cell_type": "code",
     "collapsed": false,
     "input": [],
     "language": "python",
     "metadata": {},
     "outputs": [],
     "prompt_number": 5
    },
    {
     "cell_type": "code",
     "collapsed": false,
     "input": [],
     "language": "python",
     "metadata": {},
     "outputs": []
    }
   ],
   "metadata": {}
  }
 ]
}