{
 "metadata": {
  "name": "",
  "signature": "sha256:372665caa2ee351295c57e1a1f68aeda440bb1898c294085d80aa839bff1e706"
 },
 "nbformat": 3,
 "nbformat_minor": 0,
 "worksheets": [
  {
   "cells": [
    {
     "cell_type": "markdown",
     "metadata": {},
     "source": [
      "## Objectifs\n",
      "\n",
      "L'objectif est ici d'ajouter un nouveau programme \u00e0 la boite \u00e0 outils. Il doit permettre d'extraire la liste (redondante ou non redondante des identifiants des transcripts (transcript_id), des identifiants des g\u00e8nes (gene_id) ou encore des identifiants d'exons suivant ce que demande l'utilisateur.  "
     ]
    }
   ],
   "metadata": {}
  }
 ]
}