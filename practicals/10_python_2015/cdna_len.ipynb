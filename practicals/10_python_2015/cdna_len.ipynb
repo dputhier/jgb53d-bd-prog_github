{
 "cells": [
  {
   "cell_type": "markdown",
   "metadata": {},
   "source": [
    "## Objectifs\n",
    "\n",
    "A partir du fichier [gtf](http://pedagogix-tagc.univ-mrs.fr/courses/jgb53d-bd-prog/practicals/data/hg38_5k.gtf) contenant les coordonnées de 5000 transcripts humains, réalisez un programme qui:\n",
    "\n",
    "- Charge ce fichier.\n",
    "- Calcul la taille des transcripts matures (*i.e* somme des exons).\n",
    "- Stocke cette information sur le disque, dans un fichier.\n",
    "- Relit ce fichier avec pandas.\n",
    "- Créé un diagramme montrant la distribution des tailles de ces transcripts en fonction de la classe du transcript (gene_biotype).\n",
    "- Sauvegarde le diagramme sur le disque au format pdf."
   ]
  }
 ],
 "metadata": {
  "kernelspec": {
   "display_name": "Python 3",
   "language": "python",
   "name": "python3"
  },
  "language_info": {
   "codemirror_mode": {
    "name": "ipython",
    "version": 3
   },
   "file_extension": ".py",
   "mimetype": "text/x-python",
   "name": "python",
   "nbconvert_exporter": "python",
   "pygments_lexer": "ipython3",
   "version": "3.6.7"
  }
 },
 "nbformat": 4,
 "nbformat_minor": 1
}
