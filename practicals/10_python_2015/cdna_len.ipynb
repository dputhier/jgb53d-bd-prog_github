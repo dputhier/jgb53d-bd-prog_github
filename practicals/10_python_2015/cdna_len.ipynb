{
 "metadata": {
  "name": "",
  "signature": "sha256:cffc0ebc68e3bd623ef7f06ba44c873afd5cc351ce419d6120d3e9163bc1d30f"
 },
 "nbformat": 3,
 "nbformat_minor": 0,
 "worksheets": [
  {
   "cells": [
    {
     "cell_type": "markdown",
     "metadata": {},
     "source": [
      "## Objectifs\n",
      "\n",
      "L'objectif est ici d'ajouter un nouveau programme \u00e0 la boite \u00e0 outils. Il doit permettre de calculer la taille des cDNAs. Celle-ci correspond, pour chaque transcrit \u00e0 la somme des tailles de ses exons.\n",
      "[correction](cdna_len.py)"
     ]
    },
    {
     "cell_type": "code",
     "collapsed": false,
     "input": [
      "# -*- coding: utf-8 -*-\n",
      "# La ligne pr\u00e9c\u00e9dente permet d'utiliser des caract\u00e8res accentu\u00e9s\n",
      "# dans les commentaires\n",
      "\n",
      "\"\"\"\n",
      "    Author D. Puthier\n",
      "    date: Wed Oct 28 16:44:29 CET 2015\n",
      "    program: cdna_len.py\n",
      "    This program is intended to compute the cDNA length.\n",
      "    \"\"\"\n",
      "# On importe le module re\n",
      "# afin de pouvoir rechercher\n",
      "# une expression r\u00c3\u00a9guli\u00c3\u00a8re dans une\n",
      "# cha\u00eene de caract\u00e8res.\n",
      "\n",
      "from utils import get_tx_name\n",
      "\n",
      "def cdna_len_cmd(file_name):\n",
      "    \"\"\"Compute the cDNA length of a transcript.\"\"\"\n",
      "\n",
      "    cdna_len_dict = dict()\n",
      "\n",
      "\n",
      "    file_handler = open(file_name, \"r\")\n",
      "\n",
      "    for line in file_handler:\n",
      "\n",
      "        # On d\u00e9coupe la ligne sur le s\u00e9parateur \"\\t\"\n",
      "\n",
      "        columns = line.split(\"\\t\")\n",
      "        start = int(columns[3])\n",
      "        end = int(columns[4])\n",
      "        tx_size = end - start + 1\n",
      "        \n",
      "        if columns[2] == \"exon\":\n",
      "\n",
      "            # retrieve tx_name\n",
      "\n",
      "            tx_name = get_tx_name(columns[8])\n",
      "\n",
      "            # Si le transcript n'est pas connu dans le dictionnaire\n",
      "            # On l'initialise\n",
      "            if not cdna_len_dict.get(tx_name):\n",
      "                # On affecte la taille de l'exon courant\n",
      "                # \u00e0 la clef tx_name\n",
      "                cdna_len_dict[tx_name] = tx_size\n",
      "\n",
      "            else:\n",
      "                # Sinon on ajoute la taille de l'exon\n",
      "                # \u00e0 la valeur associ\u00e9e \u00e0 la clef tx_name\n",
      "\n",
      "                cdna_len_dict[tx_name] += tx_size\n",
      "\n",
      "    # Pour toutes les clefs du dictionnaire cdna_len\n",
      "\n",
      "    for tx_name in cdna_len_dict:\n",
      "\n",
      "        print(tx_name + \"\\t\" + str(cdna_len_dict[tx_name]))\n",
      "\n",
      "if __name__ == \"__main__\":\n",
      "\n",
      "    cdna_len_cmd(\"../data/hg38_5k.gtf\")"
     ],
     "language": "python",
     "metadata": {},
     "outputs": []
    }
   ],
   "metadata": {}
  }
 ]
}