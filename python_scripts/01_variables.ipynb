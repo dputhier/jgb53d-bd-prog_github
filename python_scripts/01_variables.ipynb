{
 "metadata": {
  "name": "",
  "signature": "sha256:ffc8e91856cb750aa711f68c481150c431dbb0024ed15b81e2ee1b5f1c2cf3a5"
 },
 "nbformat": 3,
 "nbformat_minor": 0,
 "worksheets": [
  {
   "cells": [
    {
     "cell_type": "heading",
     "level": 1,
     "metadata": {},
     "source": [
      "Lire le contenu d'un fichier"
     ]
    },
    {
     "cell_type": "code",
     "collapsed": false,
     "input": [
      "file = \"RefGene_hg38_introns_reg.bed\"\n"
     ],
     "language": "python",
     "metadata": {},
     "outputs": []
    },
    {
     "cell_type": "heading",
     "level": 1,
     "metadata": {},
     "source": [
      "Assignation de valeurs \u00e0 une variable"
     ]
    },
    {
     "cell_type": "code",
     "collapsed": false,
     "input": [
      "a = 3 ## Assigner une valaeur (3) \u00e0 une variable appel\u00e9e \"a\"\n",
      "b = 2*a ## Calculer la valeur de b \u00e0 partir de celle de a\n",
      "print(a) ## Imprimer la valeur de a\n",
      "print(b) ## Imprimer la valeur de b\n"
     ],
     "language": "python",
     "metadata": {},
     "outputs": [
      {
       "output_type": "stream",
       "stream": "stdout",
       "text": [
        "3\n",
        "6\n"
       ]
      }
     ],
     "prompt_number": 15
    },
    {
     "cell_type": "markdown",
     "metadata": {},
     "source": [
      "Nous pouvons raffiner l'impression en concat\u00e9nant des morceaux de texte.\n",
      "\n",
      "<i><b><font color=\"green\">Astuce:</font></b> le langage python g\u00e8re diff\u00e9remment les variables contenant des valeurs num\u00e9riques, et celles contenant du texte (cha\u00eenes de caract\u00e8res, \"strings\"). Pour pouvoir concat\u00e9ner des variables num\u00e9riques, il faut d'abord les convertir en cha\u00eenes de caract\u00e8res, au moyen de la fonction str(). </i>"
     ]
    },
    {
     "cell_type": "code",
     "collapsed": false,
     "input": [
      "print(\"a=\"+str(a)) \n",
      "print(\"b=\"+str(b))\n"
     ],
     "language": "python",
     "metadata": {},
     "outputs": [
      {
       "output_type": "stream",
       "stream": "stdout",
       "text": [
        "a=3\n",
        "b=6\n"
       ]
      }
     ],
     "prompt_number": 13
    },
    {
     "cell_type": "code",
     "collapsed": false,
     "input": [
      "a = 4\n",
      "## Exercice: que vaut b ?\n",
      "print(b)"
     ],
     "language": "python",
     "metadata": {},
     "outputs": [
      {
       "output_type": "stream",
       "stream": "stdout",
       "text": [
        "6\n"
       ]
      }
     ],
     "prompt_number": 14
    },
    {
     "cell_type": "code",
     "collapsed": false,
     "input": [
      "## Question: pourquoi "
     ],
     "language": "python",
     "metadata": {},
     "outputs": []
    }
   ],
   "metadata": {}
  }
 ]
}