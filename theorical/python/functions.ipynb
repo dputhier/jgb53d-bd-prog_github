{
 "cells": [
  {
   "cell_type": "markdown",
   "id": "a813a7d0",
   "metadata": {},
   "source": [
    "*AMU :: Polytech Biotech 3A :: JGB53D :: 2014/2015 :: Jacques van\n",
    "Helden, Denis Puthier, Nicolas Terrapon*\n",
    "\n",
    "Contenu\n",
    "-------\n",
    "\n",
    "Outre les instructions procédurales que vous avez découvert lors des\n",
    "scéances précédentes, les langages de programmation vous offrent la\n",
    "possibilité de créer vos propres fonctions. L'intérêt d'une fonction est\n",
    "de **regrouper une série d'instructions que l'on souhaite répéter plus\n",
    "d'une fois dans un programme** ou un projet. En remplaçant certaines parties de code par un appelle à une fonction dont le **nom a été judicieusement choisi**, on améliore aussi beaucoup la **lisibilité du code**.\n",
    "\n",
    "------------------------------------------------------------------------\n",
    "\n",
    "Fonctions\n",
    "---------\n",
    "\n",
    "### Définition et appel\n",
    "\n",
    "La création d'une fonction se fait grâce au mot-clé **def**. Celui-ci\n",
    "est suivi du **nom de la fonction** et du caractère **\":\"**. On décrit ensuite les opérations qui\n",
    "doivent être effectuées par la fonction en marquant l'indentation.\n",
    "Python crée alors un **objet function** portant le nom choisi pour la fonction. Le programme\n",
    "python peut alors exécuter, ou *appeler* cette fonction.\n"
   ]
  },
  {
   "cell_type": "code",
   "execution_count": 13,
   "id": "e80ae045",
   "metadata": {},
   "outputs": [],
   "source": [
    "##################################\n",
    "##  Exemple de fonction simple  ##\n",
    "##################################\n",
    "\n",
    "def print_hello():\n",
    "    print(\"Hello!\")"
   ]
  },
  {
   "cell_type": "code",
   "execution_count": 14,
   "id": "2e78b73f",
   "metadata": {},
   "outputs": [
    {
     "name": "stdout",
     "output_type": "stream",
     "text": [
      "Hello!\n"
     ]
    }
   ],
   "source": [
    "print_hello()"
   ]
  },
  {
   "cell_type": "code",
   "execution_count": 15,
   "id": "115d9a78",
   "metadata": {},
   "outputs": [
    {
     "data": {
      "text/plain": [
       "function"
      ]
     },
     "execution_count": 15,
     "metadata": {},
     "output_type": "execute_result"
    }
   ],
   "source": [
    "##################################\n",
    "##  print_hello est un objet     ##\n",
    "## 'function'\n",
    "##################################\n",
    "\n",
    "type(print_hello)"
   ]
  },
  {
   "cell_type": "markdown",
   "id": "62000378",
   "metadata": {},
   "source": [
    "### Passage d'arguments\n",
    "\n",
    "Une fonction dépendent fréquemment de paramètres, ou *arguments*,\n",
    "nécessaires à la réalisation de la fonction mais qui peuvent varier lors\n",
    "des différents appels à cette fonction. \n",
    "\n",
    "- Pour spécifier les arguments d'une fonction, vous devez les lister entre parenthèses après son nom.\n",
    "- Vous pouvez également spécifier une valeur par défault pour vos arguments. Le passage de ces arguments lors de l'appel de la fonction devient alors facultatif.\n"
   ]
  },
  {
   "cell_type": "code",
   "execution_count": 16,
   "id": "d580c42b",
   "metadata": {},
   "outputs": [
    {
     "name": "stdout",
     "output_type": "stream",
     "text": [
      "Hello!Hello!Hello!Hello!Hello!Hello!Hello!Hello!Hello!Hello!\n",
      "Hello!Hello!Hello!Hello!Hello!\n",
      "Hello!Hello!Hello!Hello!Hello!\n"
     ]
    }
   ],
   "source": [
    "################################################\n",
    "##  Exemple de fonction simple avec arguments ##\n",
    "################################################\n",
    "\n",
    "def print_hello(n=10): # NOTEZ LE \":\" et le mot clef \"def\"\n",
    "    print(n * \"Hello!\")\n",
    "\n",
    "# Si on appelle print hello sans argument\n",
    "# la chaîne de caracatère Hello est imprimé 10 fois\n",
    "print_hello()\n",
    "\n",
    "# on peut cependant modifier la valeur de l'argument\n",
    "# lors de l'appelle de la fonction. Si on positionne\n",
    "# n sur 5 alors Hello sera imprimé 5 fois.\n",
    "print_hello(n=5)\n",
    "\n",
    "# On peut éventuellement ne pas spécifier le nom de l'argument\n",
    "# (Cf plus bas)\n",
    "print_hello(5)"
   ]
  },
  {
   "cell_type": "code",
   "execution_count": 17,
   "id": "d1a51fb0",
   "metadata": {},
   "outputs": [
    {
     "name": "stdout",
     "output_type": "stream",
     "text": [
      "foofoofoofoofoofoo\n"
     ]
    }
   ],
   "source": [
    "##################################################\n",
    "##  La fonction peut avoir plusieurs arguments  ##\n",
    "##################################################\n",
    "\n",
    "def print_mot(mot=\"Hello\", n=5):\n",
    "    print(n * mot)\n",
    "\n",
    "print_mot(\"foo\", n=6)"
   ]
  },
  {
   "cell_type": "code",
   "execution_count": 19,
   "id": "4d6d1e4b",
   "metadata": {},
   "outputs": [
    {
     "name": "stdout",
     "output_type": "stream",
     "text": [
      "foo-foo-foo-foo-foo-foo-foo-foo-foo-foo\n",
      "foo-foo-foo-foo-foo-foo-foo-foo-foo-foo\n",
      "bla/bla/bla\n",
      "bar|bar|bar|bar|bar\n",
      "bla/bla/bla\n",
      "bla/bla/bla\n",
      "bla/bla/bla\n"
     ]
    }
   ],
   "source": []
  },
  {
   "cell_type": "markdown",
   "id": "5ed889bd",
   "metadata": {},
   "source": [
    "### Variable retour\n",
    "\n",
    "Une fonction est parfois créé pour manipuler des données et réaliser des\n",
    "calculs que l'on souhaite réutiliser par la suite. Dans ce cas, le\n",
    "simple affichage du résultat ne nous satisfera pas. On peut alors\n",
    "demander à la fonction de renvoyer son résultat avec le mot-clef\n",
    "**return**. Lors de l'appel à la fonction, ce résultat pourra alors être\n",
    "conserver dans une variable (par affectation). Finalement, Python permet\n",
    "de renvoyer plusieurs résultats sous la forme d'un tuple. Noter qu'une fonction peut renvoyer une liste ou un tuple permettant de renvoyer ainsi plusieurs éléments dans un objet.\n"
   ]
  },
  {
   "cell_type": "code",
   "execution_count": 21,
   "id": "76c9bd2a",
   "metadata": {},
   "outputs": [
    {
     "name": "stdout",
     "output_type": "stream",
     "text": [
      "foo-foo-foo-foo-foo-foo-foo-foo-foo-foo\n"
     ]
    }
   ],
   "source": [
    "###############################################\n",
    "##  Exemple de fonctions avec retour simple  ##\n",
    "###############################################\n",
    "\n",
    "\n",
    "def return_mot(mot=\"foo\", n=10, sep=\"-\"):\n",
    "      return(sep.join(n * [mot])) # on substitue print par return\n",
    "\n",
    "# Le résultat est renvoyé à l'écran\n",
    "return_mot()\n",
    "\n",
    "# Cependant, le résultat peut être renvoyé et stocké dans un variable\n",
    "# Cette variable pourra être utilisé par la suite.\n",
    "a = return_mot()\n",
    "\n",
    "# Ici, le contenu est stocké dans a\n",
    "print(a)"
   ]
  },
  {
   "cell_type": "markdown",
   "id": "c818b765",
   "metadata": {},
   "source": [
    "### Portée des variables\n",
    "\n",
    "Dans une fonction, toute affectation à une variable revient à créer une nouvelle variable de portée locale (*i.e* connue dans l'environnement d'execution de la fonction mais pas dans l'environnement global)."
   ]
  },
  {
   "cell_type": "code",
   "execution_count": 1,
   "id": "39820c1c",
   "metadata": {},
   "outputs": [
    {
     "name": "stdout",
     "output_type": "stream",
     "text": [
      "Valeur dans l'environnement de la fonction =  8\n",
      "Valeur dans l'environnement global =  100\n"
     ]
    }
   ],
   "source": [
    "##################################\n",
    "##  Exemple de variable locale  ##\n",
    "##################################\n",
    "\n",
    "x = 100\n",
    "\n",
    "def print_x_value():\n",
    "    x = 8 # x est défini localement\n",
    "    print(\"Valeur dans l'environnement de la fonction = \", x)\n",
    "\n",
    "print_x_value()\n",
    "\n",
    "print(\"Valeur dans l'environnement global = \", x)"
   ]
  },
  {
   "cell_type": "code",
   "execution_count": null,
   "metadata": {},
   "outputs": [],
   "source": []
  }
 ],
 "metadata": {
  "kernelspec": {
   "display_name": "Python 3 (ipykernel)",
   "language": "python",
   "name": "python3"
  },
  "language_info": {
   "codemirror_mode": {
    "name": "ipython",
    "version": 3
   },
   "file_extension": ".py",
   "mimetype": "text/x-python",
   "name": "python",
   "nbconvert_exporter": "python",
   "pygments_lexer": "ipython3",
   "version": "3.8.8"
  }
 },
 "nbformat": 4,
 "nbformat_minor": 1
}
